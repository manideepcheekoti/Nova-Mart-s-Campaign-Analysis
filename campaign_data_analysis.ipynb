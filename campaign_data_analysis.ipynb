{
 "cells": [
  {
   "cell_type": "markdown",
   "id": "32d11fce-c765-4b5d-bada-fd23556bac92",
   "metadata": {},
   "source": [
    "<h1 align='center'>Nova Mart Data Analysis Project</h1>"
   ]
  },
  {
   "cell_type": "code",
   "execution_count": 1,
   "id": "8ce6c8b7-cfa6-4c6e-aed7-7be2d203e32d",
   "metadata": {},
   "outputs": [],
   "source": [
    "import pandas as pd\n",
    "import numpy as np\n",
    "import seaborn as sns\n",
    "import matplotlib.pyplot as plt\n",
    "import warnings\n",
    "warnings.filterwarnings(\"ignore\")"
   ]
  },
  {
   "cell_type": "markdown",
   "id": "ed9782ab-b1de-4103-ade4-2b52b5684d5e",
   "metadata": {},
   "source": [
    "<h2 style=\"color:purple\" align=\"center\">Data Import</h2>"
   ]
  },
  {
   "cell_type": "markdown",
   "id": "c9ae4305-f702-4848-98f5-5151e84a5d87",
   "metadata": {},
   "source": [
    "#### Read Data From CSV Files"
   ]
  },
  {
   "cell_type": "code",
   "execution_count": 2,
   "id": "703cc64a-fee6-4d19-8088-258833dbdc55",
   "metadata": {},
   "outputs": [],
   "source": [
    "df_campaigns = pd.read_csv(\"datasets/dim_campaigns.csv\")\n",
    "df_products = pd.read_csv(\"datasets/dim_products.csv\")\n",
    "df_stores = pd.read_csv(\"datasets/dim_stores.csv\")\n",
    "df_events = pd.read_csv(\"datasets/fact_events.csv\")"
   ]
  },
  {
   "cell_type": "code",
   "execution_count": 3,
   "id": "5f51fb18-5252-4d5f-aba9-cab21807606a",
   "metadata": {},
   "outputs": [
    {
     "data": {
      "text/html": [
       "<div>\n",
       "<style scoped>\n",
       "    .dataframe tbody tr th:only-of-type {\n",
       "        vertical-align: middle;\n",
       "    }\n",
       "\n",
       "    .dataframe tbody tr th {\n",
       "        vertical-align: top;\n",
       "    }\n",
       "\n",
       "    .dataframe thead th {\n",
       "        text-align: right;\n",
       "    }\n",
       "</style>\n",
       "<table border=\"1\" class=\"dataframe\">\n",
       "  <thead>\n",
       "    <tr style=\"text-align: right;\">\n",
       "      <th></th>\n",
       "      <th>campaign_id</th>\n",
       "      <th>campaign_name</th>\n",
       "      <th>start_date</th>\n",
       "      <th>end_date</th>\n",
       "    </tr>\n",
       "  </thead>\n",
       "  <tbody>\n",
       "    <tr>\n",
       "      <th>0</th>\n",
       "      <td>CAMP_DIW_01</td>\n",
       "      <td>Diwali</td>\n",
       "      <td>12-11-2023</td>\n",
       "      <td>18-11-2023</td>\n",
       "    </tr>\n",
       "    <tr>\n",
       "      <th>1</th>\n",
       "      <td>CAMP_SAN_01</td>\n",
       "      <td>Sankranti</td>\n",
       "      <td>10-01-2024</td>\n",
       "      <td>16-01-2024</td>\n",
       "    </tr>\n",
       "  </tbody>\n",
       "</table>\n",
       "</div>"
      ],
      "text/plain": [
       "   campaign_id campaign_name  start_date    end_date\n",
       "0  CAMP_DIW_01        Diwali  12-11-2023  18-11-2023\n",
       "1  CAMP_SAN_01     Sankranti  10-01-2024  16-01-2024"
      ]
     },
     "execution_count": 3,
     "metadata": {},
     "output_type": "execute_result"
    }
   ],
   "source": [
    "df_campaigns.head()"
   ]
  },
  {
   "cell_type": "code",
   "execution_count": 4,
   "id": "c87e2944-f342-4e3b-98d0-ef9c7ca09bd1",
   "metadata": {},
   "outputs": [
    {
     "data": {
      "text/html": [
       "<div>\n",
       "<style scoped>\n",
       "    .dataframe tbody tr th:only-of-type {\n",
       "        vertical-align: middle;\n",
       "    }\n",
       "\n",
       "    .dataframe tbody tr th {\n",
       "        vertical-align: top;\n",
       "    }\n",
       "\n",
       "    .dataframe thead th {\n",
       "        text-align: right;\n",
       "    }\n",
       "</style>\n",
       "<table border=\"1\" class=\"dataframe\">\n",
       "  <thead>\n",
       "    <tr style=\"text-align: right;\">\n",
       "      <th></th>\n",
       "      <th>product_code</th>\n",
       "      <th>product_name</th>\n",
       "      <th>category</th>\n",
       "    </tr>\n",
       "  </thead>\n",
       "  <tbody>\n",
       "    <tr>\n",
       "      <th>0</th>\n",
       "      <td>P01</td>\n",
       "      <td>Atliq_Masoor_Dal (1KG)</td>\n",
       "      <td>Grocery &amp; Staples</td>\n",
       "    </tr>\n",
       "    <tr>\n",
       "      <th>1</th>\n",
       "      <td>P02</td>\n",
       "      <td>Atliq_Sonamasuri_Rice (10KG)</td>\n",
       "      <td>Grocery &amp; Staples</td>\n",
       "    </tr>\n",
       "    <tr>\n",
       "      <th>2</th>\n",
       "      <td>P03</td>\n",
       "      <td>Atliq_Suflower_Oil (1L)</td>\n",
       "      <td>Grocery &amp; Staples</td>\n",
       "    </tr>\n",
       "  </tbody>\n",
       "</table>\n",
       "</div>"
      ],
      "text/plain": [
       "  product_code                  product_name           category\n",
       "0          P01        Atliq_Masoor_Dal (1KG)  Grocery & Staples\n",
       "1          P02  Atliq_Sonamasuri_Rice (10KG)  Grocery & Staples\n",
       "2          P03       Atliq_Suflower_Oil (1L)  Grocery & Staples"
      ]
     },
     "execution_count": 4,
     "metadata": {},
     "output_type": "execute_result"
    }
   ],
   "source": [
    "df_products.head(3)"
   ]
  },
  {
   "cell_type": "code",
   "execution_count": 5,
   "id": "6280f4e5-f5e6-4a88-a145-a515e7138c92",
   "metadata": {},
   "outputs": [
    {
     "data": {
      "text/html": [
       "<div>\n",
       "<style scoped>\n",
       "    .dataframe tbody tr th:only-of-type {\n",
       "        vertical-align: middle;\n",
       "    }\n",
       "\n",
       "    .dataframe tbody tr th {\n",
       "        vertical-align: top;\n",
       "    }\n",
       "\n",
       "    .dataframe thead th {\n",
       "        text-align: right;\n",
       "    }\n",
       "</style>\n",
       "<table border=\"1\" class=\"dataframe\">\n",
       "  <thead>\n",
       "    <tr style=\"text-align: right;\">\n",
       "      <th></th>\n",
       "      <th>store_id</th>\n",
       "      <th>city</th>\n",
       "    </tr>\n",
       "  </thead>\n",
       "  <tbody>\n",
       "    <tr>\n",
       "      <th>0</th>\n",
       "      <td>STTRV-0</td>\n",
       "      <td>Trivandrum</td>\n",
       "    </tr>\n",
       "    <tr>\n",
       "      <th>1</th>\n",
       "      <td>STMDU-3</td>\n",
       "      <td>Madurai</td>\n",
       "    </tr>\n",
       "    <tr>\n",
       "      <th>2</th>\n",
       "      <td>STHYD-6</td>\n",
       "      <td>Hyderabad</td>\n",
       "    </tr>\n",
       "  </tbody>\n",
       "</table>\n",
       "</div>"
      ],
      "text/plain": [
       "  store_id        city\n",
       "0  STTRV-0  Trivandrum\n",
       "1  STMDU-3     Madurai\n",
       "2  STHYD-6   Hyderabad"
      ]
     },
     "execution_count": 5,
     "metadata": {},
     "output_type": "execute_result"
    }
   ],
   "source": [
    "df_stores.head(3)"
   ]
  },
  {
   "cell_type": "code",
   "execution_count": 6,
   "id": "771499f5-9bcf-4e6b-9dee-ec402570ccb0",
   "metadata": {},
   "outputs": [
    {
     "data": {
      "text/html": [
       "<div>\n",
       "<style scoped>\n",
       "    .dataframe tbody tr th:only-of-type {\n",
       "        vertical-align: middle;\n",
       "    }\n",
       "\n",
       "    .dataframe tbody tr th {\n",
       "        vertical-align: top;\n",
       "    }\n",
       "\n",
       "    .dataframe thead th {\n",
       "        text-align: right;\n",
       "    }\n",
       "</style>\n",
       "<table border=\"1\" class=\"dataframe\">\n",
       "  <thead>\n",
       "    <tr style=\"text-align: right;\">\n",
       "      <th></th>\n",
       "      <th>event_id</th>\n",
       "      <th>store_id</th>\n",
       "      <th>campaign_id</th>\n",
       "      <th>product_code</th>\n",
       "      <th>base_price(before_promo)</th>\n",
       "      <th>quantity_sold(before_promo)</th>\n",
       "      <th>promo_type</th>\n",
       "      <th>base_price(after_promo)</th>\n",
       "      <th>quantity_sold(after_promo)</th>\n",
       "    </tr>\n",
       "  </thead>\n",
       "  <tbody>\n",
       "    <tr>\n",
       "      <th>0</th>\n",
       "      <td>8481be</td>\n",
       "      <td>STCHE-1</td>\n",
       "      <td>CAMP_DIW_01</td>\n",
       "      <td>P04</td>\n",
       "      <td>290</td>\n",
       "      <td>327.0</td>\n",
       "      <td>25% OFF</td>\n",
       "      <td>217</td>\n",
       "      <td>287</td>\n",
       "    </tr>\n",
       "    <tr>\n",
       "      <th>1</th>\n",
       "      <td>20618e</td>\n",
       "      <td>STCHE-3</td>\n",
       "      <td>CAMP_SAN_01</td>\n",
       "      <td>P04</td>\n",
       "      <td>370</td>\n",
       "      <td>379.0</td>\n",
       "      <td>BOGOF</td>\n",
       "      <td>185</td>\n",
       "      <td>1622</td>\n",
       "    </tr>\n",
       "    <tr>\n",
       "      <th>2</th>\n",
       "      <td>f30579</td>\n",
       "      <td>STBLR-9</td>\n",
       "      <td>CAMP_DIW_01</td>\n",
       "      <td>P02</td>\n",
       "      <td>860</td>\n",
       "      <td>337.0</td>\n",
       "      <td>33% OFF</td>\n",
       "      <td>576</td>\n",
       "      <td>488</td>\n",
       "    </tr>\n",
       "  </tbody>\n",
       "</table>\n",
       "</div>"
      ],
      "text/plain": [
       "  event_id store_id  campaign_id product_code  base_price(before_promo)  \\\n",
       "0   8481be  STCHE-1  CAMP_DIW_01          P04                       290   \n",
       "1   20618e  STCHE-3  CAMP_SAN_01          P04                       370   \n",
       "2   f30579  STBLR-9  CAMP_DIW_01          P02                       860   \n",
       "\n",
       "   quantity_sold(before_promo) promo_type  base_price(after_promo)  \\\n",
       "0                        327.0    25% OFF                      217   \n",
       "1                        379.0      BOGOF                      185   \n",
       "2                        337.0    33% OFF                      576   \n",
       "\n",
       "   quantity_sold(after_promo)  \n",
       "0                         287  \n",
       "1                        1622  \n",
       "2                         488  "
      ]
     },
     "execution_count": 6,
     "metadata": {},
     "output_type": "execute_result"
    }
   ],
   "source": [
    "df_events.head(3)"
   ]
  },
  {
   "cell_type": "markdown",
   "id": "0bd9af1a-dc30-44ce-8679-e6c32ea5267a",
   "metadata": {},
   "source": [
    "#### Client Requests\n",
    "*1. The operations team wants to ensure the integrity of the events data by removing duplicates. Check for and remove duplicate rows in the events dataframe based on store_id, campaign_id, and product_code. How many duplicate rows were removed?*"
   ]
  },
  {
   "cell_type": "code",
   "execution_count": 7,
   "id": "4ac1eac6-091c-4ed6-ad3e-f57af99b93bf",
   "metadata": {},
   "outputs": [
    {
     "name": "stdout",
     "output_type": "stream",
     "text": [
      "Number of rows and columns in events dataframe: (1500, 9)\n"
     ]
    },
    {
     "data": {
      "text/plain": [
       "(1500, 9)"
      ]
     },
     "execution_count": 7,
     "metadata": {},
     "output_type": "execute_result"
    }
   ],
   "source": [
    "print(f\"Number of rows and columns in events dataframe: {df_events.shape}\")\n",
    "df_events.shape"
   ]
  },
  {
   "cell_type": "code",
   "execution_count": 8,
   "id": "c25f0f1c-0da2-4d6f-9ef0-4f36ee50e3f1",
   "metadata": {},
   "outputs": [
    {
     "data": {
      "text/plain": [
       "1500"
      ]
     },
     "execution_count": 8,
     "metadata": {},
     "output_type": "execute_result"
    }
   ],
   "source": [
    "# 1. Removing duplicates based on store_id, campaign_id, and product_code\n",
    "# Check the initial row count\n",
    "initial_row_count = len(df_events)\n",
    "initial_row_count"
   ]
  },
  {
   "cell_type": "code",
   "execution_count": 9,
   "id": "d7935953-44d5-45e1-999c-e39ea3fa4147",
   "metadata": {},
   "outputs": [
    {
     "data": {
      "text/plain": [
       "50"
      ]
     },
     "execution_count": 9,
     "metadata": {},
     "output_type": "execute_result"
    }
   ],
   "source": [
    "df_events['store_id'].nunique()"
   ]
  },
  {
   "cell_type": "code",
   "execution_count": 10,
   "id": "9a1ccaae-8c8e-4585-9776-75e49613d297",
   "metadata": {},
   "outputs": [
    {
     "data": {
      "text/plain": [
       "2"
      ]
     },
     "execution_count": 10,
     "metadata": {},
     "output_type": "execute_result"
    }
   ],
   "source": [
    "df_events['campaign_id'].nunique()"
   ]
  },
  {
   "cell_type": "code",
   "execution_count": 11,
   "id": "4f06677b-c678-4f12-9915-9bd4a7ffcf1c",
   "metadata": {},
   "outputs": [
    {
     "data": {
      "text/plain": [
       "15"
      ]
     },
     "execution_count": 11,
     "metadata": {},
     "output_type": "execute_result"
    }
   ],
   "source": [
    "df_events['product_code'].nunique()"
   ]
  },
  {
   "cell_type": "code",
   "execution_count": 12,
   "id": "76d41d8a-527e-4955-ab27-89cd79ff8fce",
   "metadata": {},
   "outputs": [
    {
     "data": {
      "text/plain": [
       "store_id        50\n",
       "campaign_id      2\n",
       "product_code    15\n",
       "dtype: int64"
      ]
     },
     "execution_count": 12,
     "metadata": {},
     "output_type": "execute_result"
    }
   ],
   "source": [
    "df_events[['store_id', 'campaign_id', 'product_code']].nunique()"
   ]
  },
  {
   "cell_type": "code",
   "execution_count": 13,
   "id": "dfa7afe1-3a3b-4805-9b03-5982c269e97d",
   "metadata": {},
   "outputs": [
    {
     "data": {
      "text/plain": [
       "1500"
      ]
     },
     "execution_count": 13,
     "metadata": {},
     "output_type": "execute_result"
    }
   ],
   "source": [
    "df_events[['store_id', 'campaign_id', 'product_code']].apply(tuple, axis=1).nunique()"
   ]
  },
  {
   "cell_type": "code",
   "execution_count": 14,
   "id": "02d70624-a308-4f28-b86f-7011c2979d58",
   "metadata": {},
   "outputs": [
    {
     "data": {
      "text/html": [
       "<div>\n",
       "<style scoped>\n",
       "    .dataframe tbody tr th:only-of-type {\n",
       "        vertical-align: middle;\n",
       "    }\n",
       "\n",
       "    .dataframe tbody tr th {\n",
       "        vertical-align: top;\n",
       "    }\n",
       "\n",
       "    .dataframe thead th {\n",
       "        text-align: right;\n",
       "    }\n",
       "</style>\n",
       "<table border=\"1\" class=\"dataframe\">\n",
       "  <thead>\n",
       "    <tr style=\"text-align: right;\">\n",
       "      <th></th>\n",
       "      <th>event_id</th>\n",
       "      <th>store_id</th>\n",
       "      <th>campaign_id</th>\n",
       "      <th>product_code</th>\n",
       "      <th>base_price(before_promo)</th>\n",
       "      <th>quantity_sold(before_promo)</th>\n",
       "      <th>promo_type</th>\n",
       "      <th>base_price(after_promo)</th>\n",
       "      <th>quantity_sold(after_promo)</th>\n",
       "    </tr>\n",
       "  </thead>\n",
       "  <tbody>\n",
       "  </tbody>\n",
       "</table>\n",
       "</div>"
      ],
      "text/plain": [
       "Empty DataFrame\n",
       "Columns: [event_id, store_id, campaign_id, product_code, base_price(before_promo), quantity_sold(before_promo), promo_type, base_price(after_promo), quantity_sold(after_promo)]\n",
       "Index: []"
      ]
     },
     "execution_count": 14,
     "metadata": {},
     "output_type": "execute_result"
    }
   ],
   "source": [
    "df_events[df_events.duplicated(subset=['store_id', 'campaign_id', 'product_code'], keep=False)]"
   ]
  },
  {
   "cell_type": "code",
   "execution_count": 15,
   "id": "15f939ed-4bb1-4e07-a7f3-ebc27b54cc22",
   "metadata": {},
   "outputs": [
    {
     "data": {
      "text/plain": [
       "(0, 9)"
      ]
     },
     "execution_count": 15,
     "metadata": {},
     "output_type": "execute_result"
    }
   ],
   "source": [
    "df_events[df_events.duplicated(subset=['store_id', 'campaign_id', 'product_code'], keep=False)].shape"
   ]
  },
  {
   "cell_type": "code",
   "execution_count": 16,
   "id": "f98391ef-a3c2-412e-ac9e-30e3483daf9f",
   "metadata": {},
   "outputs": [
    {
     "data": {
      "text/plain": [
       "(1500, 9)"
      ]
     },
     "execution_count": 16,
     "metadata": {},
     "output_type": "execute_result"
    }
   ],
   "source": [
    "df_events_1 = df_events.drop_duplicates(subset=['store_id', 'campaign_id', 'product_code'])\n",
    "df_events_1.shape"
   ]
  },
  {
   "cell_type": "code",
   "execution_count": 17,
   "id": "c71ad2e0-c3c8-4709-aadf-641103882c6a",
   "metadata": {},
   "outputs": [
    {
     "data": {
      "text/plain": [
       "1500"
      ]
     },
     "execution_count": 17,
     "metadata": {},
     "output_type": "execute_result"
    }
   ],
   "source": [
    "final_rows_count = len(df_events_1)\n",
    "final_rows_count"
   ]
  },
  {
   "cell_type": "code",
   "execution_count": 18,
   "id": "3ebcb066-2d89-403b-b489-19f83772a77a",
   "metadata": {},
   "outputs": [
    {
     "data": {
      "text/plain": [
       "0"
      ]
     },
     "execution_count": 18,
     "metadata": {},
     "output_type": "execute_result"
    }
   ],
   "source": [
    "duplicated_rows = initial_row_count - final_rows_count\n",
    "duplicated_rows"
   ]
  },
  {
   "cell_type": "markdown",
   "id": "714f5051-145f-4a0f-9a97-5ceeae9e775e",
   "metadata": {},
   "source": [
    "#### Client Requests\n",
    "*2. How many cities have more than 5 stores?*\n"
   ]
  },
  {
   "cell_type": "code",
   "execution_count": 19,
   "id": "f9e7f4e1-4a5f-4b80-b94b-02a8dfb47dc5",
   "metadata": {},
   "outputs": [
    {
     "name": "stdout",
     "output_type": "stream",
     "text": [
      "Number of rows and columns in events dataframe: (50, 2)\n"
     ]
    },
    {
     "data": {
      "text/plain": [
       "(50, 2)"
      ]
     },
     "execution_count": 19,
     "metadata": {},
     "output_type": "execute_result"
    }
   ],
   "source": [
    "print(f\"Number of rows and columns in events dataframe: {df_stores.shape}\")\n",
    "df_stores.shape"
   ]
  },
  {
   "cell_type": "code",
   "execution_count": 20,
   "id": "3aa87c6c-b75f-4348-9eca-3cdcd4842a64",
   "metadata": {},
   "outputs": [
    {
     "data": {
      "text/html": [
       "<div>\n",
       "<style scoped>\n",
       "    .dataframe tbody tr th:only-of-type {\n",
       "        vertical-align: middle;\n",
       "    }\n",
       "\n",
       "    .dataframe tbody tr th {\n",
       "        vertical-align: top;\n",
       "    }\n",
       "\n",
       "    .dataframe thead th {\n",
       "        text-align: right;\n",
       "    }\n",
       "</style>\n",
       "<table border=\"1\" class=\"dataframe\">\n",
       "  <thead>\n",
       "    <tr style=\"text-align: right;\">\n",
       "      <th></th>\n",
       "      <th>store_id</th>\n",
       "      <th>city</th>\n",
       "    </tr>\n",
       "  </thead>\n",
       "  <tbody>\n",
       "    <tr>\n",
       "      <th>0</th>\n",
       "      <td>STTRV-0</td>\n",
       "      <td>Trivandrum</td>\n",
       "    </tr>\n",
       "    <tr>\n",
       "      <th>1</th>\n",
       "      <td>STMDU-3</td>\n",
       "      <td>Madurai</td>\n",
       "    </tr>\n",
       "    <tr>\n",
       "      <th>2</th>\n",
       "      <td>STHYD-6</td>\n",
       "      <td>Hyderabad</td>\n",
       "    </tr>\n",
       "    <tr>\n",
       "      <th>3</th>\n",
       "      <td>STVSK-1</td>\n",
       "      <td>Visakhapatnam</td>\n",
       "    </tr>\n",
       "  </tbody>\n",
       "</table>\n",
       "</div>"
      ],
      "text/plain": [
       "  store_id           city\n",
       "0  STTRV-0     Trivandrum\n",
       "1  STMDU-3        Madurai\n",
       "2  STHYD-6      Hyderabad\n",
       "3  STVSK-1  Visakhapatnam"
      ]
     },
     "execution_count": 20,
     "metadata": {},
     "output_type": "execute_result"
    }
   ],
   "source": [
    "df_stores.head(4)"
   ]
  },
  {
   "cell_type": "code",
   "execution_count": 21,
   "id": "d8540ab6-0920-43e9-ac62-82f725f35703",
   "metadata": {},
   "outputs": [
    {
     "data": {
      "text/plain": [
       "<pandas.core.groupby.generic.SeriesGroupBy object at 0x000002A5DE682540>"
      ]
     },
     "execution_count": 21,
     "metadata": {},
     "output_type": "execute_result"
    }
   ],
   "source": [
    "# 2. Counting cities with more than 5 stores\n",
    "# Group by city and count the unique store\n",
    "store_counts = df_stores.groupby('city')['store_id']\n",
    "store_counts"
   ]
  },
  {
   "cell_type": "code",
   "execution_count": 22,
   "id": "7644a600-daf5-49d7-8e3d-0a006c161ee6",
   "metadata": {},
   "outputs": [
    {
     "data": {
      "text/plain": [
       "city\n",
       "Bengaluru        10\n",
       "Chennai           8\n",
       "Coimbatore        5\n",
       "Hyderabad         7\n",
       "Madurai           4\n",
       "Mangalore         3\n",
       "Mysuru            4\n",
       "Trivandrum        2\n",
       "Vijayawada        2\n",
       "Visakhapatnam     5\n",
       "Name: store_id, dtype: int64"
      ]
     },
     "execution_count": 22,
     "metadata": {},
     "output_type": "execute_result"
    }
   ],
   "source": [
    "store_counts = df_stores.groupby('city')['store_id'].nunique()\n",
    "store_counts"
   ]
  },
  {
   "cell_type": "code",
   "execution_count": 23,
   "id": "ce884fad-1740-43f7-92b1-c891b2a7783d",
   "metadata": {},
   "outputs": [
    {
     "data": {
      "text/html": [
       "<div>\n",
       "<style scoped>\n",
       "    .dataframe tbody tr th:only-of-type {\n",
       "        vertical-align: middle;\n",
       "    }\n",
       "\n",
       "    .dataframe tbody tr th {\n",
       "        vertical-align: top;\n",
       "    }\n",
       "\n",
       "    .dataframe thead th {\n",
       "        text-align: right;\n",
       "    }\n",
       "</style>\n",
       "<table border=\"1\" class=\"dataframe\">\n",
       "  <thead>\n",
       "    <tr style=\"text-align: right;\">\n",
       "      <th></th>\n",
       "      <th>unique_store_count</th>\n",
       "    </tr>\n",
       "    <tr>\n",
       "      <th>city</th>\n",
       "      <th></th>\n",
       "    </tr>\n",
       "  </thead>\n",
       "  <tbody>\n",
       "    <tr>\n",
       "      <th>Bengaluru</th>\n",
       "      <td>10</td>\n",
       "    </tr>\n",
       "    <tr>\n",
       "      <th>Chennai</th>\n",
       "      <td>8</td>\n",
       "    </tr>\n",
       "    <tr>\n",
       "      <th>Coimbatore</th>\n",
       "      <td>5</td>\n",
       "    </tr>\n",
       "    <tr>\n",
       "      <th>Hyderabad</th>\n",
       "      <td>7</td>\n",
       "    </tr>\n",
       "    <tr>\n",
       "      <th>Madurai</th>\n",
       "      <td>4</td>\n",
       "    </tr>\n",
       "    <tr>\n",
       "      <th>Mangalore</th>\n",
       "      <td>3</td>\n",
       "    </tr>\n",
       "    <tr>\n",
       "      <th>Mysuru</th>\n",
       "      <td>4</td>\n",
       "    </tr>\n",
       "    <tr>\n",
       "      <th>Trivandrum</th>\n",
       "      <td>2</td>\n",
       "    </tr>\n",
       "    <tr>\n",
       "      <th>Vijayawada</th>\n",
       "      <td>2</td>\n",
       "    </tr>\n",
       "    <tr>\n",
       "      <th>Visakhapatnam</th>\n",
       "      <td>5</td>\n",
       "    </tr>\n",
       "  </tbody>\n",
       "</table>\n",
       "</div>"
      ],
      "text/plain": [
       "               unique_store_count\n",
       "city                             \n",
       "Bengaluru                      10\n",
       "Chennai                         8\n",
       "Coimbatore                      5\n",
       "Hyderabad                       7\n",
       "Madurai                         4\n",
       "Mangalore                       3\n",
       "Mysuru                          4\n",
       "Trivandrum                      2\n",
       "Vijayawada                      2\n",
       "Visakhapatnam                   5"
      ]
     },
     "execution_count": 23,
     "metadata": {},
     "output_type": "execute_result"
    }
   ],
   "source": [
    "store_counts = pd.DataFrame(df_stores.groupby('city')['store_id'].nunique())\n",
    "store_counts.rename(columns={'store_id':'unique_store_count'}, inplace=True)\n",
    "store_counts"
   ]
  },
  {
   "cell_type": "code",
   "execution_count": 24,
   "id": "c3fe91c1-5f0e-4064-8da9-a98c4093cc54",
   "metadata": {},
   "outputs": [
    {
     "data": {
      "text/html": [
       "<div>\n",
       "<style scoped>\n",
       "    .dataframe tbody tr th:only-of-type {\n",
       "        vertical-align: middle;\n",
       "    }\n",
       "\n",
       "    .dataframe tbody tr th {\n",
       "        vertical-align: top;\n",
       "    }\n",
       "\n",
       "    .dataframe thead th {\n",
       "        text-align: right;\n",
       "    }\n",
       "</style>\n",
       "<table border=\"1\" class=\"dataframe\">\n",
       "  <thead>\n",
       "    <tr style=\"text-align: right;\">\n",
       "      <th></th>\n",
       "      <th>unique_store_count</th>\n",
       "    </tr>\n",
       "    <tr>\n",
       "      <th>city</th>\n",
       "      <th></th>\n",
       "    </tr>\n",
       "  </thead>\n",
       "  <tbody>\n",
       "    <tr>\n",
       "      <th>Bengaluru</th>\n",
       "      <td>10</td>\n",
       "    </tr>\n",
       "    <tr>\n",
       "      <th>Chennai</th>\n",
       "      <td>8</td>\n",
       "    </tr>\n",
       "    <tr>\n",
       "      <th>Hyderabad</th>\n",
       "      <td>7</td>\n",
       "    </tr>\n",
       "  </tbody>\n",
       "</table>\n",
       "</div>"
      ],
      "text/plain": [
       "           unique_store_count\n",
       "city                         \n",
       "Bengaluru                  10\n",
       "Chennai                     8\n",
       "Hyderabad                   7"
      ]
     },
     "execution_count": 24,
     "metadata": {},
     "output_type": "execute_result"
    }
   ],
   "source": [
    "store_counts[store_counts.unique_store_count > 5]"
   ]
  },
  {
   "cell_type": "code",
   "execution_count": 25,
   "id": "c465541d-a68a-4f31-b7e8-a90bea083c15",
   "metadata": {},
   "outputs": [
    {
     "data": {
      "text/html": [
       "<div>\n",
       "<style scoped>\n",
       "    .dataframe tbody tr th:only-of-type {\n",
       "        vertical-align: middle;\n",
       "    }\n",
       "\n",
       "    .dataframe tbody tr th {\n",
       "        vertical-align: top;\n",
       "    }\n",
       "\n",
       "    .dataframe thead th {\n",
       "        text-align: right;\n",
       "    }\n",
       "</style>\n",
       "<table border=\"1\" class=\"dataframe\">\n",
       "  <thead>\n",
       "    <tr style=\"text-align: right;\">\n",
       "      <th></th>\n",
       "      <th>unique_store_count</th>\n",
       "    </tr>\n",
       "    <tr>\n",
       "      <th>city</th>\n",
       "      <th></th>\n",
       "    </tr>\n",
       "  </thead>\n",
       "  <tbody>\n",
       "    <tr>\n",
       "      <th>Bengaluru</th>\n",
       "      <td>10</td>\n",
       "    </tr>\n",
       "    <tr>\n",
       "      <th>Chennai</th>\n",
       "      <td>8</td>\n",
       "    </tr>\n",
       "    <tr>\n",
       "      <th>Hyderabad</th>\n",
       "      <td>7</td>\n",
       "    </tr>\n",
       "  </tbody>\n",
       "</table>\n",
       "</div>"
      ],
      "text/plain": [
       "           unique_store_count\n",
       "city                         \n",
       "Bengaluru                  10\n",
       "Chennai                     8\n",
       "Hyderabad                   7"
      ]
     },
     "execution_count": 25,
     "metadata": {},
     "output_type": "execute_result"
    }
   ],
   "source": [
    "cities_with_more_than_5_stores = store_counts[store_counts.unique_store_count > 5] \n",
    "cities_with_more_than_5_stores"
   ]
  },
  {
   "cell_type": "code",
   "execution_count": 26,
   "id": "2d9189dd-89b0-4151-92b0-045d23e0d148",
   "metadata": {},
   "outputs": [
    {
     "name": "stdout",
     "output_type": "stream",
     "text": [
      "The number of cities with more than 5 stores is: 3\n"
     ]
    },
    {
     "data": {
      "text/plain": [
       "3"
      ]
     },
     "execution_count": 26,
     "metadata": {},
     "output_type": "execute_result"
    }
   ],
   "source": [
    "num_cities = cities_with_more_than_5_stores.shape[0]\n",
    "print(f\"The number of cities with more than 5 stores is: {num_cities}\")\n",
    "num_cities"
   ]
  },
  {
   "cell_type": "markdown",
   "id": "68afcfc6-42f7-47d7-8a69-bb6027045a6b",
   "metadata": {},
   "source": [
    "#### Client Requests\n",
    "*3.  The sales team has identified missing values in the quantity_sold(before_promo) data. Estimate these values using the median quantity sold before the promotion. How many missing values were filled, and what is the median used for imputation?*"
   ]
  },
  {
   "cell_type": "code",
   "execution_count": 27,
   "id": "ba7baec1-f4f9-4999-a72c-8d11d82fd93f",
   "metadata": {},
   "outputs": [
    {
     "data": {
      "text/plain": [
       "event_id                       0\n",
       "store_id                       0\n",
       "campaign_id                    0\n",
       "product_code                   0\n",
       "base_price(before_promo)       0\n",
       "quantity_sold(before_promo)    0\n",
       "promo_type                     0\n",
       "base_price(after_promo)        0\n",
       "quantity_sold(after_promo)     0\n",
       "dtype: int64"
      ]
     },
     "execution_count": 27,
     "metadata": {},
     "output_type": "execute_result"
    }
   ],
   "source": [
    "df_events_1.isnull().sum()"
   ]
  },
  {
   "cell_type": "code",
   "execution_count": 28,
   "id": "d7871bed-998a-4cb7-a3c0-167b14d63f9c",
   "metadata": {},
   "outputs": [
    {
     "data": {
      "text/plain": [
       "np.float64(78.0)"
      ]
     },
     "execution_count": 28,
     "metadata": {},
     "output_type": "execute_result"
    }
   ],
   "source": [
    "median_value = df_events['quantity_sold(before_promo)'].median()\n",
    "median_value"
   ]
  },
  {
   "cell_type": "code",
   "execution_count": 29,
   "id": "0d2e69ed-aaa8-478a-8c0d-60140299dc50",
   "metadata": {},
   "outputs": [
    {
     "name": "stdout",
     "output_type": "stream",
     "text": [
      "Number of missing values: 0\n"
     ]
    }
   ],
   "source": [
    "missing_values = df_events_1['quantity_sold(before_promo)'].isnull().sum()\n",
    "print(f\"Number of missing values: {missing_values}\")"
   ]
  },
  {
   "cell_type": "code",
   "execution_count": 30,
   "id": "e0291d08-4ebb-415b-9d31-457aa7394264",
   "metadata": {},
   "outputs": [
    {
     "data": {
      "text/plain": [
       "(np.float64(138.43333333333334),\n",
       " np.float64(78.0),\n",
       " 0    78.0\n",
       " Name: quantity_sold(before_promo), dtype: float64)"
      ]
     },
     "execution_count": 30,
     "metadata": {},
     "output_type": "execute_result"
    }
   ],
   "source": [
    "df_events_1['quantity_sold(before_promo)'].mean(), df_events_1['quantity_sold(before_promo)'].median(), df_events_1['quantity_sold(before_promo)'].mode()"
   ]
  },
  {
   "cell_type": "code",
   "execution_count": 31,
   "id": "15ce9cd4-ea5c-47c9-8d68-be27b0e41dd2",
   "metadata": {},
   "outputs": [
    {
     "name": "stdout",
     "output_type": "stream",
     "text": [
      "The median used to replace missing values is: 78.0\n"
     ]
    },
    {
     "data": {
      "text/plain": [
       "np.float64(78.0)"
      ]
     },
     "execution_count": 31,
     "metadata": {},
     "output_type": "execute_result"
    }
   ],
   "source": [
    "median_quantity_sold = df_events_1['quantity_sold(before_promo)'].median()\n",
    "print(f\"The median used to replace missing values is: {median_quantity_sold}\")\n",
    "median_quantity_sold"
   ]
  },
  {
   "cell_type": "code",
   "execution_count": 32,
   "id": "4d0be6c8-7441-4400-b461-76aed7aab403",
   "metadata": {},
   "outputs": [],
   "source": [
    "df_events_1['quantity_sold(before_promo)'].fillna(median_quantity_sold, inplace=True)"
   ]
  },
  {
   "cell_type": "code",
   "execution_count": 33,
   "id": "ae8b0097-4aa8-4e8a-a550-e5029dcc9d0c",
   "metadata": {},
   "outputs": [
    {
     "data": {
      "text/plain": [
       "np.int64(0)"
      ]
     },
     "execution_count": 33,
     "metadata": {},
     "output_type": "execute_result"
    }
   ],
   "source": [
    "df_events_1['quantity_sold(before_promo)'].isnull().sum()"
   ]
  },
  {
   "cell_type": "code",
   "execution_count": 34,
   "id": "9826cf14-23f7-4ce4-a8b0-82de0aae5d62",
   "metadata": {},
   "outputs": [
    {
     "name": "stdout",
     "output_type": "stream",
     "text": [
      "Number of missing values after imputation: 0\n"
     ]
    }
   ],
   "source": [
    "missing_values_after = df_events_1['quantity_sold(before_promo)'].isnull().sum()\n",
    "print(f\"Number of missing values after imputation: {missing_values_after}\")"
   ]
  },
  {
   "cell_type": "code",
   "execution_count": 35,
   "id": "9e8dafe0-699c-4039-80c6-3356d3b5c044",
   "metadata": {},
   "outputs": [
    {
     "name": "stdout",
     "output_type": "stream",
     "text": [
      "Number of missing values filled: 0\n"
     ]
    }
   ],
   "source": [
    "# Display the number of missing values filled\n",
    "missing_values_filled = missing_values - missing_values_after\n",
    "print(f\"Number of missing values filled: {missing_values_filled}\")\n"
   ]
  },
  {
   "cell_type": "code",
   "execution_count": 36,
   "id": "b3783572-19a8-4b90-9ccb-213a723d63ac",
   "metadata": {},
   "outputs": [
    {
     "data": {
      "text/plain": [
       "np.float64(78.0)"
      ]
     },
     "execution_count": 36,
     "metadata": {},
     "output_type": "execute_result"
    }
   ],
   "source": [
    "median_value = df_events_1['quantity_sold(before_promo)'].median()\n",
    "median_value"
   ]
  },
  {
   "cell_type": "markdown",
   "id": "6db213ad-5629-45f8-8bad-c19573297440",
   "metadata": {},
   "source": [
    "#### Client Requests\n",
    "*4. Identify the product category with the lowest base price before the promotion*"
   ]
  },
  {
   "cell_type": "code",
   "execution_count": 37,
   "id": "7a801343-5b9d-4e5d-b7c4-71665a421c66",
   "metadata": {},
   "outputs": [
    {
     "data": {
      "text/html": [
       "<div>\n",
       "<style scoped>\n",
       "    .dataframe tbody tr th:only-of-type {\n",
       "        vertical-align: middle;\n",
       "    }\n",
       "\n",
       "    .dataframe tbody tr th {\n",
       "        vertical-align: top;\n",
       "    }\n",
       "\n",
       "    .dataframe thead th {\n",
       "        text-align: right;\n",
       "    }\n",
       "</style>\n",
       "<table border=\"1\" class=\"dataframe\">\n",
       "  <thead>\n",
       "    <tr style=\"text-align: right;\">\n",
       "      <th></th>\n",
       "      <th>event_id</th>\n",
       "      <th>store_id</th>\n",
       "      <th>campaign_id</th>\n",
       "      <th>product_code</th>\n",
       "      <th>base_price(before_promo)</th>\n",
       "      <th>quantity_sold(before_promo)</th>\n",
       "      <th>promo_type</th>\n",
       "      <th>base_price(after_promo)</th>\n",
       "      <th>quantity_sold(after_promo)</th>\n",
       "      <th>product_name</th>\n",
       "      <th>category</th>\n",
       "    </tr>\n",
       "  </thead>\n",
       "  <tbody>\n",
       "    <tr>\n",
       "      <th>0</th>\n",
       "      <td>8481be</td>\n",
       "      <td>STCHE-1</td>\n",
       "      <td>CAMP_DIW_01</td>\n",
       "      <td>P04</td>\n",
       "      <td>290</td>\n",
       "      <td>327.0</td>\n",
       "      <td>25% OFF</td>\n",
       "      <td>217</td>\n",
       "      <td>287</td>\n",
       "      <td>Atliq_Farm_Chakki_Atta (1KG)</td>\n",
       "      <td>Grocery &amp; Staples</td>\n",
       "    </tr>\n",
       "    <tr>\n",
       "      <th>1</th>\n",
       "      <td>20618e</td>\n",
       "      <td>STCHE-3</td>\n",
       "      <td>CAMP_SAN_01</td>\n",
       "      <td>P04</td>\n",
       "      <td>370</td>\n",
       "      <td>379.0</td>\n",
       "      <td>BOGOF</td>\n",
       "      <td>185</td>\n",
       "      <td>1622</td>\n",
       "      <td>Atliq_Farm_Chakki_Atta (1KG)</td>\n",
       "      <td>Grocery &amp; Staples</td>\n",
       "    </tr>\n",
       "    <tr>\n",
       "      <th>2</th>\n",
       "      <td>f30579</td>\n",
       "      <td>STBLR-9</td>\n",
       "      <td>CAMP_DIW_01</td>\n",
       "      <td>P02</td>\n",
       "      <td>860</td>\n",
       "      <td>337.0</td>\n",
       "      <td>33% OFF</td>\n",
       "      <td>576</td>\n",
       "      <td>488</td>\n",
       "      <td>Atliq_Sonamasuri_Rice (10KG)</td>\n",
       "      <td>Grocery &amp; Staples</td>\n",
       "    </tr>\n",
       "    <tr>\n",
       "      <th>3</th>\n",
       "      <td>4f570c</td>\n",
       "      <td>STBLR-7</td>\n",
       "      <td>CAMP_DIW_01</td>\n",
       "      <td>P05</td>\n",
       "      <td>55</td>\n",
       "      <td>122.0</td>\n",
       "      <td>25% OFF</td>\n",
       "      <td>41</td>\n",
       "      <td>107</td>\n",
       "      <td>Atliq_Scrub_Sponge_For_Dishwash</td>\n",
       "      <td>Home Care</td>\n",
       "    </tr>\n",
       "    <tr>\n",
       "      <th>4</th>\n",
       "      <td>6d153f</td>\n",
       "      <td>STHYD-5</td>\n",
       "      <td>CAMP_SAN_01</td>\n",
       "      <td>P15</td>\n",
       "      <td>3000</td>\n",
       "      <td>122.0</td>\n",
       "      <td>500 Cashback</td>\n",
       "      <td>2500</td>\n",
       "      <td>272</td>\n",
       "      <td>Atliq_Home_Essential_8_Product_Combo</td>\n",
       "      <td>Combo1</td>\n",
       "    </tr>\n",
       "  </tbody>\n",
       "</table>\n",
       "</div>"
      ],
      "text/plain": [
       "  event_id store_id  campaign_id product_code  base_price(before_promo)  \\\n",
       "0   8481be  STCHE-1  CAMP_DIW_01          P04                       290   \n",
       "1   20618e  STCHE-3  CAMP_SAN_01          P04                       370   \n",
       "2   f30579  STBLR-9  CAMP_DIW_01          P02                       860   \n",
       "3   4f570c  STBLR-7  CAMP_DIW_01          P05                        55   \n",
       "4   6d153f  STHYD-5  CAMP_SAN_01          P15                      3000   \n",
       "\n",
       "   quantity_sold(before_promo)    promo_type  base_price(after_promo)  \\\n",
       "0                        327.0       25% OFF                      217   \n",
       "1                        379.0         BOGOF                      185   \n",
       "2                        337.0       33% OFF                      576   \n",
       "3                        122.0       25% OFF                       41   \n",
       "4                        122.0  500 Cashback                     2500   \n",
       "\n",
       "   quantity_sold(after_promo)                          product_name  \\\n",
       "0                         287          Atliq_Farm_Chakki_Atta (1KG)   \n",
       "1                        1622          Atliq_Farm_Chakki_Atta (1KG)   \n",
       "2                         488          Atliq_Sonamasuri_Rice (10KG)   \n",
       "3                         107       Atliq_Scrub_Sponge_For_Dishwash   \n",
       "4                         272  Atliq_Home_Essential_8_Product_Combo   \n",
       "\n",
       "            category  \n",
       "0  Grocery & Staples  \n",
       "1  Grocery & Staples  \n",
       "2  Grocery & Staples  \n",
       "3          Home Care  \n",
       "4             Combo1  "
      ]
     },
     "execution_count": 37,
     "metadata": {},
     "output_type": "execute_result"
    }
   ],
   "source": [
    "merged_df_products = pd.merge(df_events_1, df_products, on='product_code', how='inner')\n",
    "merged_df_products.head()"
   ]
  },
  {
   "cell_type": "code",
   "execution_count": 38,
   "id": "0357bba5-302b-4f90-888c-4640a24c39df",
   "metadata": {},
   "outputs": [
    {
     "name": "stdout",
     "output_type": "stream",
     "text": [
      "Number of rows and columns in merged dataframe: (1500, 11)\n"
     ]
    },
    {
     "data": {
      "text/plain": [
       "(1500, 11)"
      ]
     },
     "execution_count": 38,
     "metadata": {},
     "output_type": "execute_result"
    }
   ],
   "source": [
    "print(f\"Number of rows and columns in merged dataframe: {merged_df_products.shape}\")\n",
    "merged_df_products.shape"
   ]
  },
  {
   "cell_type": "code",
   "execution_count": 39,
   "id": "1ae211c4-9eb7-42cd-b8c4-995259a76c07",
   "metadata": {},
   "outputs": [
    {
     "data": {
      "text/plain": [
       "((1500, 9), (15, 3))"
      ]
     },
     "execution_count": 39,
     "metadata": {},
     "output_type": "execute_result"
    }
   ],
   "source": [
    "df_events.shape, df_products.shape"
   ]
  },
  {
   "cell_type": "code",
   "execution_count": 40,
   "id": "7ced651a-91e8-4ce4-bd6d-39e876aa4e0c",
   "metadata": {},
   "outputs": [
    {
     "data": {
      "text/plain": [
       "np.int64(50)"
      ]
     },
     "execution_count": 40,
     "metadata": {},
     "output_type": "execute_result"
    }
   ],
   "source": [
    "min_base_price = merged_df_products['base_price(before_promo)'].min()\n",
    "min_base_price"
   ]
  },
  {
   "cell_type": "code",
   "execution_count": 41,
   "id": "7b44a59d-e2b4-486e-8a44-502663321012",
   "metadata": {},
   "outputs": [
    {
     "data": {
      "text/plain": [
       "12      Personal Care\n",
       "22      Personal Care\n",
       "28      Personal Care\n",
       "30      Personal Care\n",
       "90      Personal Care\n",
       "118     Personal Care\n",
       "161     Personal Care\n",
       "166     Personal Care\n",
       "169     Personal Care\n",
       "261     Personal Care\n",
       "278     Personal Care\n",
       "284     Personal Care\n",
       "328     Personal Care\n",
       "347     Personal Care\n",
       "358     Personal Care\n",
       "376     Personal Care\n",
       "383     Personal Care\n",
       "390     Personal Care\n",
       "416     Personal Care\n",
       "444     Personal Care\n",
       "546     Personal Care\n",
       "602     Personal Care\n",
       "633     Personal Care\n",
       "677     Personal Care\n",
       "691     Personal Care\n",
       "709     Personal Care\n",
       "747     Personal Care\n",
       "792     Personal Care\n",
       "793     Personal Care\n",
       "807     Personal Care\n",
       "817     Personal Care\n",
       "850     Personal Care\n",
       "891     Personal Care\n",
       "901     Personal Care\n",
       "906     Personal Care\n",
       "933     Personal Care\n",
       "953     Personal Care\n",
       "991     Personal Care\n",
       "1067    Personal Care\n",
       "1161    Personal Care\n",
       "1179    Personal Care\n",
       "1186    Personal Care\n",
       "1191    Personal Care\n",
       "1217    Personal Care\n",
       "1223    Personal Care\n",
       "1256    Personal Care\n",
       "1269    Personal Care\n",
       "1314    Personal Care\n",
       "1428    Personal Care\n",
       "1466    Personal Care\n",
       "Name: category, dtype: object"
      ]
     },
     "execution_count": 41,
     "metadata": {},
     "output_type": "execute_result"
    }
   ],
   "source": [
    "merged_df_products[merged_df_products['base_price(before_promo)'] == min_base_price]['category']"
   ]
  },
  {
   "cell_type": "code",
   "execution_count": 42,
   "id": "b56aaca5-ceca-4d27-8310-6cf9b05afd3c",
   "metadata": {},
   "outputs": [
    {
     "data": {
      "text/plain": [
       "'Personal Care'"
      ]
     },
     "execution_count": 42,
     "metadata": {},
     "output_type": "execute_result"
    }
   ],
   "source": [
    "category_with_lowest_price = merged_df_products[merged_df_products['base_price(before_promo)'] == min_base_price]['category'].iloc[0]\n",
    "category_with_lowest_price "
   ]
  },
  {
   "cell_type": "code",
   "execution_count": 43,
   "id": "4095de78-14d5-468a-b3bc-01c28549ac41",
   "metadata": {},
   "outputs": [
    {
     "name": "stdout",
     "output_type": "stream",
     "text": [
      "Product Category with lowest base price: Personal Care\n"
     ]
    }
   ],
   "source": [
    "print(f\"Product Category with lowest base price: {category_with_lowest_price}\")"
   ]
  },
  {
   "cell_type": "markdown",
   "id": "5ef941a7-177e-4066-be3e-cae9164100cb",
   "metadata": {},
   "source": [
    "#### Client Requests\n",
    "*5. What is the total quantity sold after the promotion for the BOGOF promo type  during the Diwali campaign?*"
   ]
  },
  {
   "cell_type": "code",
   "execution_count": 44,
   "id": "7dc2c063-1e3c-46f4-9ded-3f1f4cdcaea9",
   "metadata": {},
   "outputs": [
    {
     "data": {
      "text/html": [
       "<div>\n",
       "<style scoped>\n",
       "    .dataframe tbody tr th:only-of-type {\n",
       "        vertical-align: middle;\n",
       "    }\n",
       "\n",
       "    .dataframe tbody tr th {\n",
       "        vertical-align: top;\n",
       "    }\n",
       "\n",
       "    .dataframe thead th {\n",
       "        text-align: right;\n",
       "    }\n",
       "</style>\n",
       "<table border=\"1\" class=\"dataframe\">\n",
       "  <thead>\n",
       "    <tr style=\"text-align: right;\">\n",
       "      <th></th>\n",
       "      <th>event_id</th>\n",
       "      <th>store_id</th>\n",
       "      <th>campaign_id</th>\n",
       "      <th>product_code</th>\n",
       "      <th>base_price(before_promo)</th>\n",
       "      <th>quantity_sold(before_promo)</th>\n",
       "      <th>promo_type</th>\n",
       "      <th>base_price(after_promo)</th>\n",
       "      <th>quantity_sold(after_promo)</th>\n",
       "    </tr>\n",
       "  </thead>\n",
       "  <tbody>\n",
       "    <tr>\n",
       "      <th>0</th>\n",
       "      <td>8481be</td>\n",
       "      <td>STCHE-1</td>\n",
       "      <td>CAMP_DIW_01</td>\n",
       "      <td>P04</td>\n",
       "      <td>290</td>\n",
       "      <td>327.0</td>\n",
       "      <td>25% OFF</td>\n",
       "      <td>217</td>\n",
       "      <td>287</td>\n",
       "    </tr>\n",
       "    <tr>\n",
       "      <th>1</th>\n",
       "      <td>20618e</td>\n",
       "      <td>STCHE-3</td>\n",
       "      <td>CAMP_SAN_01</td>\n",
       "      <td>P04</td>\n",
       "      <td>370</td>\n",
       "      <td>379.0</td>\n",
       "      <td>BOGOF</td>\n",
       "      <td>185</td>\n",
       "      <td>1622</td>\n",
       "    </tr>\n",
       "    <tr>\n",
       "      <th>2</th>\n",
       "      <td>f30579</td>\n",
       "      <td>STBLR-9</td>\n",
       "      <td>CAMP_DIW_01</td>\n",
       "      <td>P02</td>\n",
       "      <td>860</td>\n",
       "      <td>337.0</td>\n",
       "      <td>33% OFF</td>\n",
       "      <td>576</td>\n",
       "      <td>488</td>\n",
       "    </tr>\n",
       "    <tr>\n",
       "      <th>3</th>\n",
       "      <td>4f570c</td>\n",
       "      <td>STBLR-7</td>\n",
       "      <td>CAMP_DIW_01</td>\n",
       "      <td>P05</td>\n",
       "      <td>55</td>\n",
       "      <td>122.0</td>\n",
       "      <td>25% OFF</td>\n",
       "      <td>41</td>\n",
       "      <td>107</td>\n",
       "    </tr>\n",
       "    <tr>\n",
       "      <th>4</th>\n",
       "      <td>6d153f</td>\n",
       "      <td>STHYD-5</td>\n",
       "      <td>CAMP_SAN_01</td>\n",
       "      <td>P15</td>\n",
       "      <td>3000</td>\n",
       "      <td>122.0</td>\n",
       "      <td>500 Cashback</td>\n",
       "      <td>2500</td>\n",
       "      <td>272</td>\n",
       "    </tr>\n",
       "  </tbody>\n",
       "</table>\n",
       "</div>"
      ],
      "text/plain": [
       "  event_id store_id  campaign_id product_code  base_price(before_promo)  \\\n",
       "0   8481be  STCHE-1  CAMP_DIW_01          P04                       290   \n",
       "1   20618e  STCHE-3  CAMP_SAN_01          P04                       370   \n",
       "2   f30579  STBLR-9  CAMP_DIW_01          P02                       860   \n",
       "3   4f570c  STBLR-7  CAMP_DIW_01          P05                        55   \n",
       "4   6d153f  STHYD-5  CAMP_SAN_01          P15                      3000   \n",
       "\n",
       "   quantity_sold(before_promo)    promo_type  base_price(after_promo)  \\\n",
       "0                        327.0       25% OFF                      217   \n",
       "1                        379.0         BOGOF                      185   \n",
       "2                        337.0       33% OFF                      576   \n",
       "3                        122.0       25% OFF                       41   \n",
       "4                        122.0  500 Cashback                     2500   \n",
       "\n",
       "   quantity_sold(after_promo)  \n",
       "0                         287  \n",
       "1                        1622  \n",
       "2                         488  \n",
       "3                         107  \n",
       "4                         272  "
      ]
     },
     "execution_count": 44,
     "metadata": {},
     "output_type": "execute_result"
    }
   ],
   "source": [
    "df_events_1.head()"
   ]
  },
  {
   "cell_type": "code",
   "execution_count": 45,
   "id": "b8645e48-f638-4b88-8ac5-a4b3965c0156",
   "metadata": {},
   "outputs": [
    {
     "data": {
      "text/html": [
       "<div>\n",
       "<style scoped>\n",
       "    .dataframe tbody tr th:only-of-type {\n",
       "        vertical-align: middle;\n",
       "    }\n",
       "\n",
       "    .dataframe tbody tr th {\n",
       "        vertical-align: top;\n",
       "    }\n",
       "\n",
       "    .dataframe thead th {\n",
       "        text-align: right;\n",
       "    }\n",
       "</style>\n",
       "<table border=\"1\" class=\"dataframe\">\n",
       "  <thead>\n",
       "    <tr style=\"text-align: right;\">\n",
       "      <th></th>\n",
       "      <th>event_id</th>\n",
       "      <th>store_id</th>\n",
       "      <th>campaign_id</th>\n",
       "      <th>product_code</th>\n",
       "      <th>base_price(before_promo)</th>\n",
       "      <th>quantity_sold(before_promo)</th>\n",
       "      <th>promo_type</th>\n",
       "      <th>base_price(after_promo)</th>\n",
       "      <th>quantity_sold(after_promo)</th>\n",
       "      <th>product_name</th>\n",
       "      <th>category</th>\n",
       "    </tr>\n",
       "  </thead>\n",
       "  <tbody>\n",
       "    <tr>\n",
       "      <th>0</th>\n",
       "      <td>8481be</td>\n",
       "      <td>STCHE-1</td>\n",
       "      <td>CAMP_DIW_01</td>\n",
       "      <td>P04</td>\n",
       "      <td>290</td>\n",
       "      <td>327.0</td>\n",
       "      <td>25% OFF</td>\n",
       "      <td>217</td>\n",
       "      <td>287</td>\n",
       "      <td>Atliq_Farm_Chakki_Atta (1KG)</td>\n",
       "      <td>Grocery &amp; Staples</td>\n",
       "    </tr>\n",
       "    <tr>\n",
       "      <th>1</th>\n",
       "      <td>20618e</td>\n",
       "      <td>STCHE-3</td>\n",
       "      <td>CAMP_SAN_01</td>\n",
       "      <td>P04</td>\n",
       "      <td>370</td>\n",
       "      <td>379.0</td>\n",
       "      <td>BOGOF</td>\n",
       "      <td>185</td>\n",
       "      <td>1622</td>\n",
       "      <td>Atliq_Farm_Chakki_Atta (1KG)</td>\n",
       "      <td>Grocery &amp; Staples</td>\n",
       "    </tr>\n",
       "    <tr>\n",
       "      <th>2</th>\n",
       "      <td>f30579</td>\n",
       "      <td>STBLR-9</td>\n",
       "      <td>CAMP_DIW_01</td>\n",
       "      <td>P02</td>\n",
       "      <td>860</td>\n",
       "      <td>337.0</td>\n",
       "      <td>33% OFF</td>\n",
       "      <td>576</td>\n",
       "      <td>488</td>\n",
       "      <td>Atliq_Sonamasuri_Rice (10KG)</td>\n",
       "      <td>Grocery &amp; Staples</td>\n",
       "    </tr>\n",
       "    <tr>\n",
       "      <th>3</th>\n",
       "      <td>4f570c</td>\n",
       "      <td>STBLR-7</td>\n",
       "      <td>CAMP_DIW_01</td>\n",
       "      <td>P05</td>\n",
       "      <td>55</td>\n",
       "      <td>122.0</td>\n",
       "      <td>25% OFF</td>\n",
       "      <td>41</td>\n",
       "      <td>107</td>\n",
       "      <td>Atliq_Scrub_Sponge_For_Dishwash</td>\n",
       "      <td>Home Care</td>\n",
       "    </tr>\n",
       "    <tr>\n",
       "      <th>4</th>\n",
       "      <td>6d153f</td>\n",
       "      <td>STHYD-5</td>\n",
       "      <td>CAMP_SAN_01</td>\n",
       "      <td>P15</td>\n",
       "      <td>3000</td>\n",
       "      <td>122.0</td>\n",
       "      <td>500 Cashback</td>\n",
       "      <td>2500</td>\n",
       "      <td>272</td>\n",
       "      <td>Atliq_Home_Essential_8_Product_Combo</td>\n",
       "      <td>Combo1</td>\n",
       "    </tr>\n",
       "  </tbody>\n",
       "</table>\n",
       "</div>"
      ],
      "text/plain": [
       "  event_id store_id  campaign_id product_code  base_price(before_promo)  \\\n",
       "0   8481be  STCHE-1  CAMP_DIW_01          P04                       290   \n",
       "1   20618e  STCHE-3  CAMP_SAN_01          P04                       370   \n",
       "2   f30579  STBLR-9  CAMP_DIW_01          P02                       860   \n",
       "3   4f570c  STBLR-7  CAMP_DIW_01          P05                        55   \n",
       "4   6d153f  STHYD-5  CAMP_SAN_01          P15                      3000   \n",
       "\n",
       "   quantity_sold(before_promo)    promo_type  base_price(after_promo)  \\\n",
       "0                        327.0       25% OFF                      217   \n",
       "1                        379.0         BOGOF                      185   \n",
       "2                        337.0       33% OFF                      576   \n",
       "3                        122.0       25% OFF                       41   \n",
       "4                        122.0  500 Cashback                     2500   \n",
       "\n",
       "   quantity_sold(after_promo)                          product_name  \\\n",
       "0                         287          Atliq_Farm_Chakki_Atta (1KG)   \n",
       "1                        1622          Atliq_Farm_Chakki_Atta (1KG)   \n",
       "2                         488          Atliq_Sonamasuri_Rice (10KG)   \n",
       "3                         107       Atliq_Scrub_Sponge_For_Dishwash   \n",
       "4                         272  Atliq_Home_Essential_8_Product_Combo   \n",
       "\n",
       "            category  \n",
       "0  Grocery & Staples  \n",
       "1  Grocery & Staples  \n",
       "2  Grocery & Staples  \n",
       "3          Home Care  \n",
       "4             Combo1  "
      ]
     },
     "execution_count": 45,
     "metadata": {},
     "output_type": "execute_result"
    }
   ],
   "source": [
    "merged_df_products.head()"
   ]
  },
  {
   "cell_type": "code",
   "execution_count": 46,
   "id": "e6a7ccc5-0498-49cf-bd43-f2e32368a8a4",
   "metadata": {},
   "outputs": [
    {
     "data": {
      "text/html": [
       "<div>\n",
       "<style scoped>\n",
       "    .dataframe tbody tr th:only-of-type {\n",
       "        vertical-align: middle;\n",
       "    }\n",
       "\n",
       "    .dataframe tbody tr th {\n",
       "        vertical-align: top;\n",
       "    }\n",
       "\n",
       "    .dataframe thead th {\n",
       "        text-align: right;\n",
       "    }\n",
       "</style>\n",
       "<table border=\"1\" class=\"dataframe\">\n",
       "  <thead>\n",
       "    <tr style=\"text-align: right;\">\n",
       "      <th></th>\n",
       "      <th>event_id</th>\n",
       "      <th>store_id</th>\n",
       "      <th>campaign_id</th>\n",
       "      <th>product_code</th>\n",
       "      <th>base_price(before_promo)</th>\n",
       "      <th>quantity_sold(before_promo)</th>\n",
       "      <th>promo_type</th>\n",
       "      <th>base_price(after_promo)</th>\n",
       "      <th>quantity_sold(after_promo)</th>\n",
       "      <th>campaign_name</th>\n",
       "      <th>start_date</th>\n",
       "      <th>end_date</th>\n",
       "    </tr>\n",
       "  </thead>\n",
       "  <tbody>\n",
       "    <tr>\n",
       "      <th>115</th>\n",
       "      <td>583386</td>\n",
       "      <td>STBLR-9</td>\n",
       "      <td>CAMP_SAN_01</td>\n",
       "      <td>P08</td>\n",
       "      <td>1190</td>\n",
       "      <td>63.0</td>\n",
       "      <td>BOGOF</td>\n",
       "      <td>595</td>\n",
       "      <td>254</td>\n",
       "      <td>Sankranti</td>\n",
       "      <td>10-01-2024</td>\n",
       "      <td>16-01-2024</td>\n",
       "    </tr>\n",
       "    <tr>\n",
       "      <th>1439</th>\n",
       "      <td>75f9b8</td>\n",
       "      <td>STCHE-4</td>\n",
       "      <td>CAMP_SAN_01</td>\n",
       "      <td>P06</td>\n",
       "      <td>415</td>\n",
       "      <td>27.0</td>\n",
       "      <td>25% OFF</td>\n",
       "      <td>311</td>\n",
       "      <td>22</td>\n",
       "      <td>Sankranti</td>\n",
       "      <td>10-01-2024</td>\n",
       "      <td>16-01-2024</td>\n",
       "    </tr>\n",
       "    <tr>\n",
       "      <th>570</th>\n",
       "      <td>1ee94b</td>\n",
       "      <td>STHYD-0</td>\n",
       "      <td>CAMP_DIW_01</td>\n",
       "      <td>P13</td>\n",
       "      <td>350</td>\n",
       "      <td>68.0</td>\n",
       "      <td>BOGOF</td>\n",
       "      <td>175</td>\n",
       "      <td>235</td>\n",
       "      <td>Diwali</td>\n",
       "      <td>12-11-2023</td>\n",
       "      <td>18-11-2023</td>\n",
       "    </tr>\n",
       "  </tbody>\n",
       "</table>\n",
       "</div>"
      ],
      "text/plain": [
       "     event_id store_id  campaign_id product_code  base_price(before_promo)  \\\n",
       "115    583386  STBLR-9  CAMP_SAN_01          P08                      1190   \n",
       "1439   75f9b8  STCHE-4  CAMP_SAN_01          P06                       415   \n",
       "570    1ee94b  STHYD-0  CAMP_DIW_01          P13                       350   \n",
       "\n",
       "      quantity_sold(before_promo) promo_type  base_price(after_promo)  \\\n",
       "115                          63.0      BOGOF                      595   \n",
       "1439                         27.0    25% OFF                      311   \n",
       "570                          68.0      BOGOF                      175   \n",
       "\n",
       "      quantity_sold(after_promo) campaign_name  start_date    end_date  \n",
       "115                          254     Sankranti  10-01-2024  16-01-2024  \n",
       "1439                          22     Sankranti  10-01-2024  16-01-2024  \n",
       "570                          235        Diwali  12-11-2023  18-11-2023  "
      ]
     },
     "execution_count": 46,
     "metadata": {},
     "output_type": "execute_result"
    }
   ],
   "source": [
    "merged_df_campaigns = pd.merge(df_events_1, df_campaigns, on='campaign_id', how='inner')\n",
    "merged_df_campaigns.sample(3)"
   ]
  },
  {
   "cell_type": "code",
   "execution_count": 47,
   "id": "5620e50b-4d70-4653-98ea-5ab9f6a05d9f",
   "metadata": {},
   "outputs": [
    {
     "name": "stdout",
     "output_type": "stream",
     "text": [
      "Total quantity sold after the promotion for BOGOF promo type during the Diwali campaign: 34461\n"
     ]
    },
    {
     "data": {
      "text/plain": [
       "np.int64(34461)"
      ]
     },
     "execution_count": 47,
     "metadata": {},
     "output_type": "execute_result"
    }
   ],
   "source": [
    "# Filters the rows where both conditions (promo_type == 'BOGOF' and campaign_name == 'Diwali') are true and use .sum() method calculates the total for the selected values.\n",
    "total_quantity_sold = merged_df_campaigns.loc[\n",
    "                                        (merged_df_campaigns['promo_type'] == 'BOGOF') & \n",
    "                                        (merged_df_campaigns['campaign_name'] == 'Diwali'),\n",
    "                                    'quantity_sold(after_promo)'].sum()\n",
    "\n",
    "print(f\"Total quantity sold after the promotion for BOGOF promo type during the Diwali campaign: {total_quantity_sold}\")\n",
    "total_quantity_sold"
   ]
  },
  {
   "cell_type": "markdown",
   "id": "86f54c04-8925-437c-add5-de597b76b5b0",
   "metadata": {},
   "source": [
    "##### OR"
   ]
  },
  {
   "cell_type": "code",
   "execution_count": 48,
   "id": "05212466-aaee-43a3-b7d3-adabe4b0397d",
   "metadata": {},
   "outputs": [
    {
     "name": "stdout",
     "output_type": "stream",
     "text": [
      "Total quantity sold after the promotion for BOGOF promo type during the Diwali campaign: 34461\n"
     ]
    }
   ],
   "source": [
    "# Step 2: Filter rows for BOGOF promo type and Diwali campaign\n",
    "filtered_df = merged_df_campaigns[(merged_df_campaigns['promo_type'] == 'BOGOF') &\n",
    "                                  (merged_df_campaigns['campaign_name'] == 'Diwali')]\n",
    "\n",
    "# Step 3: Calculate the total quantity sold after the promotion\n",
    "total_quantity_sold = filtered_df['quantity_sold(after_promo)'].sum()\n",
    "print(f\"Total quantity sold after the promotion for BOGOF promo type during the Diwali campaign: {total_quantity_sold}\")\n"
   ]
  },
  {
   "cell_type": "markdown",
   "id": "d0146f4f-14eb-4c57-84f4-80a54b641e64",
   "metadata": {},
   "source": [
    "#### Client Requests\n",
    "*6. Which store recorded the highest quantity sold after the promotion during the Diwali campaign?*"
   ]
  },
  {
   "cell_type": "code",
   "execution_count": 49,
   "id": "187cbcb4-9ebd-48c5-bc3c-9813263db0b1",
   "metadata": {},
   "outputs": [
    {
     "data": {
      "text/html": [
       "<div>\n",
       "<style scoped>\n",
       "    .dataframe tbody tr th:only-of-type {\n",
       "        vertical-align: middle;\n",
       "    }\n",
       "\n",
       "    .dataframe tbody tr th {\n",
       "        vertical-align: top;\n",
       "    }\n",
       "\n",
       "    .dataframe thead th {\n",
       "        text-align: right;\n",
       "    }\n",
       "</style>\n",
       "<table border=\"1\" class=\"dataframe\">\n",
       "  <thead>\n",
       "    <tr style=\"text-align: right;\">\n",
       "      <th></th>\n",
       "      <th>event_id</th>\n",
       "      <th>store_id</th>\n",
       "      <th>campaign_id</th>\n",
       "      <th>product_code</th>\n",
       "      <th>base_price(before_promo)</th>\n",
       "      <th>quantity_sold(before_promo)</th>\n",
       "      <th>promo_type</th>\n",
       "      <th>base_price(after_promo)</th>\n",
       "      <th>quantity_sold(after_promo)</th>\n",
       "      <th>campaign_name</th>\n",
       "      <th>start_date</th>\n",
       "      <th>end_date</th>\n",
       "    </tr>\n",
       "  </thead>\n",
       "  <tbody>\n",
       "    <tr>\n",
       "      <th>591</th>\n",
       "      <td>6c9451</td>\n",
       "      <td>STVSK-0</td>\n",
       "      <td>CAMP_DIW_01</td>\n",
       "      <td>P03</td>\n",
       "      <td>156</td>\n",
       "      <td>259.0</td>\n",
       "      <td>25% OFF</td>\n",
       "      <td>117</td>\n",
       "      <td>225</td>\n",
       "      <td>Diwali</td>\n",
       "      <td>12-11-2023</td>\n",
       "      <td>18-11-2023</td>\n",
       "    </tr>\n",
       "    <tr>\n",
       "      <th>424</th>\n",
       "      <td>315542</td>\n",
       "      <td>STVJD-1</td>\n",
       "      <td>CAMP_SAN_01</td>\n",
       "      <td>P03</td>\n",
       "      <td>200</td>\n",
       "      <td>183.0</td>\n",
       "      <td>BOGOF</td>\n",
       "      <td>100</td>\n",
       "      <td>710</td>\n",
       "      <td>Sankranti</td>\n",
       "      <td>10-01-2024</td>\n",
       "      <td>16-01-2024</td>\n",
       "    </tr>\n",
       "    <tr>\n",
       "      <th>975</th>\n",
       "      <td>582098</td>\n",
       "      <td>STMYS-1</td>\n",
       "      <td>CAMP_SAN_01</td>\n",
       "      <td>P14</td>\n",
       "      <td>1020</td>\n",
       "      <td>109.0</td>\n",
       "      <td>BOGOF</td>\n",
       "      <td>510</td>\n",
       "      <td>453</td>\n",
       "      <td>Sankranti</td>\n",
       "      <td>10-01-2024</td>\n",
       "      <td>16-01-2024</td>\n",
       "    </tr>\n",
       "  </tbody>\n",
       "</table>\n",
       "</div>"
      ],
      "text/plain": [
       "    event_id store_id  campaign_id product_code  base_price(before_promo)  \\\n",
       "591   6c9451  STVSK-0  CAMP_DIW_01          P03                       156   \n",
       "424   315542  STVJD-1  CAMP_SAN_01          P03                       200   \n",
       "975   582098  STMYS-1  CAMP_SAN_01          P14                      1020   \n",
       "\n",
       "     quantity_sold(before_promo) promo_type  base_price(after_promo)  \\\n",
       "591                        259.0    25% OFF                      117   \n",
       "424                        183.0      BOGOF                      100   \n",
       "975                        109.0      BOGOF                      510   \n",
       "\n",
       "     quantity_sold(after_promo) campaign_name  start_date    end_date  \n",
       "591                         225        Diwali  12-11-2023  18-11-2023  \n",
       "424                         710     Sankranti  10-01-2024  16-01-2024  \n",
       "975                         453     Sankranti  10-01-2024  16-01-2024  "
      ]
     },
     "execution_count": 49,
     "metadata": {},
     "output_type": "execute_result"
    }
   ],
   "source": [
    "merged_df_campaigns.sample(3)"
   ]
  },
  {
   "cell_type": "code",
   "execution_count": 50,
   "id": "4b70cbb5-1641-495e-b246-061e45e11d36",
   "metadata": {},
   "outputs": [
    {
     "data": {
      "text/html": [
       "<div>\n",
       "<style scoped>\n",
       "    .dataframe tbody tr th:only-of-type {\n",
       "        vertical-align: middle;\n",
       "    }\n",
       "\n",
       "    .dataframe tbody tr th {\n",
       "        vertical-align: top;\n",
       "    }\n",
       "\n",
       "    .dataframe thead th {\n",
       "        text-align: right;\n",
       "    }\n",
       "</style>\n",
       "<table border=\"1\" class=\"dataframe\">\n",
       "  <thead>\n",
       "    <tr style=\"text-align: right;\">\n",
       "      <th></th>\n",
       "      <th>event_id</th>\n",
       "      <th>store_id</th>\n",
       "      <th>campaign_id</th>\n",
       "      <th>product_code</th>\n",
       "      <th>base_price(before_promo)</th>\n",
       "      <th>quantity_sold(before_promo)</th>\n",
       "      <th>promo_type</th>\n",
       "      <th>base_price(after_promo)</th>\n",
       "      <th>quantity_sold(after_promo)</th>\n",
       "      <th>campaign_name</th>\n",
       "      <th>start_date</th>\n",
       "      <th>end_date</th>\n",
       "    </tr>\n",
       "  </thead>\n",
       "  <tbody>\n",
       "    <tr>\n",
       "      <th>0</th>\n",
       "      <td>8481be</td>\n",
       "      <td>STCHE-1</td>\n",
       "      <td>CAMP_DIW_01</td>\n",
       "      <td>P04</td>\n",
       "      <td>290</td>\n",
       "      <td>327.0</td>\n",
       "      <td>25% OFF</td>\n",
       "      <td>217</td>\n",
       "      <td>287</td>\n",
       "      <td>Diwali</td>\n",
       "      <td>12-11-2023</td>\n",
       "      <td>18-11-2023</td>\n",
       "    </tr>\n",
       "    <tr>\n",
       "      <th>2</th>\n",
       "      <td>f30579</td>\n",
       "      <td>STBLR-9</td>\n",
       "      <td>CAMP_DIW_01</td>\n",
       "      <td>P02</td>\n",
       "      <td>860</td>\n",
       "      <td>337.0</td>\n",
       "      <td>33% OFF</td>\n",
       "      <td>576</td>\n",
       "      <td>488</td>\n",
       "      <td>Diwali</td>\n",
       "      <td>12-11-2023</td>\n",
       "      <td>18-11-2023</td>\n",
       "    </tr>\n",
       "  </tbody>\n",
       "</table>\n",
       "</div>"
      ],
      "text/plain": [
       "  event_id store_id  campaign_id product_code  base_price(before_promo)  \\\n",
       "0   8481be  STCHE-1  CAMP_DIW_01          P04                       290   \n",
       "2   f30579  STBLR-9  CAMP_DIW_01          P02                       860   \n",
       "\n",
       "   quantity_sold(before_promo) promo_type  base_price(after_promo)  \\\n",
       "0                        327.0    25% OFF                      217   \n",
       "2                        337.0    33% OFF                      576   \n",
       "\n",
       "   quantity_sold(after_promo) campaign_name  start_date    end_date  \n",
       "0                         287        Diwali  12-11-2023  18-11-2023  \n",
       "2                         488        Diwali  12-11-2023  18-11-2023  "
      ]
     },
     "execution_count": 50,
     "metadata": {},
     "output_type": "execute_result"
    }
   ],
   "source": [
    "# Filter rows for the Diwali campaign \n",
    "diwali_data = merged_df_campaigns[merged_df_campaigns['campaign_name'] == 'Diwali']\n",
    "diwali_data.head(2)"
   ]
  },
  {
   "cell_type": "code",
   "execution_count": 51,
   "id": "b934ae1b-b578-4906-98af-f07ef2452d65",
   "metadata": {},
   "outputs": [
    {
     "name": "stdout",
     "output_type": "stream",
     "text": [
      "STCHE-4\n"
     ]
    },
    {
     "data": {
      "text/html": [
       "<div>\n",
       "<style scoped>\n",
       "    .dataframe tbody tr th:only-of-type {\n",
       "        vertical-align: middle;\n",
       "    }\n",
       "\n",
       "    .dataframe tbody tr th {\n",
       "        vertical-align: top;\n",
       "    }\n",
       "\n",
       "    .dataframe thead th {\n",
       "        text-align: right;\n",
       "    }\n",
       "</style>\n",
       "<table border=\"1\" class=\"dataframe\">\n",
       "  <thead>\n",
       "    <tr style=\"text-align: right;\">\n",
       "      <th></th>\n",
       "      <th>store_id</th>\n",
       "      <th>city</th>\n",
       "    </tr>\n",
       "  </thead>\n",
       "  <tbody>\n",
       "    <tr>\n",
       "      <th>47</th>\n",
       "      <td>STCHE-4</td>\n",
       "      <td>Chennai</td>\n",
       "    </tr>\n",
       "  </tbody>\n",
       "</table>\n",
       "</div>"
      ],
      "text/plain": [
       "   store_id     city\n",
       "47  STCHE-4  Chennai"
      ]
     },
     "execution_count": 51,
     "metadata": {},
     "output_type": "execute_result"
    }
   ],
   "source": [
    "store_with_highest_sales = diwali_data.loc[diwali_data['quantity_sold(after_promo)'].idxmax(), 'store_id']\n",
    "print(store_with_highest_sales)\n",
    "df_stores[df_stores['store_id'] == store_with_highest_sales]"
   ]
  },
  {
   "cell_type": "code",
   "execution_count": 52,
   "id": "790c1757-29f8-4523-8141-6a2fee6d2525",
   "metadata": {},
   "outputs": [
    {
     "name": "stdout",
     "output_type": "stream",
     "text": [
      "Chennai\n"
     ]
    }
   ],
   "source": [
    "city_name = df_stores[df_stores['store_id'] == store_with_highest_sales].city.iloc[0]\n",
    "print(city_name)"
   ]
  },
  {
   "cell_type": "code",
   "execution_count": 53,
   "id": "2a3c4515-bed5-4b18-a2a5-716aac701de0",
   "metadata": {},
   "outputs": [
    {
     "data": {
      "text/plain": [
       "np.int64(1545)"
      ]
     },
     "execution_count": 53,
     "metadata": {},
     "output_type": "execute_result"
    }
   ],
   "source": [
    "highest_quantity_sold = diwali_data['quantity_sold(after_promo)'].max()\n",
    "highest_quantity_sold"
   ]
  },
  {
   "cell_type": "code",
   "execution_count": 54,
   "id": "c8efe86c-6629-4982-9917-05a0bd143e05",
   "metadata": {},
   "outputs": [
    {
     "name": "stdout",
     "output_type": "stream",
     "text": [
      "The store with the highest quantity sold after the promotion during the Diwali campaign is Store ID: STCHE-4 and location of store is in Chennai, with 1545 units sold.\n"
     ]
    }
   ],
   "source": [
    "print(f\"The store with the highest quantity sold after the promotion during the Diwali campaign is Store ID: {store_with_highest_sales} and location of store is in {city_name}, with {highest_quantity_sold} units sold.\")"
   ]
  },
  {
   "cell_type": "markdown",
   "id": "d7b3be72-2aa6-4c11-8be3-c969b443c1d9",
   "metadata": {},
   "source": [
    "#### Client Requests\n",
    "*7.  Understand which campaigns had the most successful outcomes. Compare the total quantities sold before and after the promotions for the Sankranti and Diwali campaigns. Which campaign saw a greater increase in sales?*"
   ]
  },
  {
   "cell_type": "code",
   "execution_count": 55,
   "id": "15f3b1cf-2cc4-42a8-919f-7a2e1c3e4c3b",
   "metadata": {},
   "outputs": [
    {
     "data": {
      "text/html": [
       "<div>\n",
       "<style scoped>\n",
       "    .dataframe tbody tr th:only-of-type {\n",
       "        vertical-align: middle;\n",
       "    }\n",
       "\n",
       "    .dataframe tbody tr th {\n",
       "        vertical-align: top;\n",
       "    }\n",
       "\n",
       "    .dataframe thead th {\n",
       "        text-align: right;\n",
       "    }\n",
       "</style>\n",
       "<table border=\"1\" class=\"dataframe\">\n",
       "  <thead>\n",
       "    <tr style=\"text-align: right;\">\n",
       "      <th></th>\n",
       "      <th>event_id</th>\n",
       "      <th>store_id</th>\n",
       "      <th>campaign_id</th>\n",
       "      <th>product_code</th>\n",
       "      <th>base_price(before_promo)</th>\n",
       "      <th>quantity_sold(before_promo)</th>\n",
       "      <th>promo_type</th>\n",
       "      <th>base_price(after_promo)</th>\n",
       "      <th>quantity_sold(after_promo)</th>\n",
       "      <th>campaign_name</th>\n",
       "      <th>start_date</th>\n",
       "      <th>end_date</th>\n",
       "    </tr>\n",
       "  </thead>\n",
       "  <tbody>\n",
       "    <tr>\n",
       "      <th>0</th>\n",
       "      <td>8481be</td>\n",
       "      <td>STCHE-1</td>\n",
       "      <td>CAMP_DIW_01</td>\n",
       "      <td>P04</td>\n",
       "      <td>290</td>\n",
       "      <td>327.0</td>\n",
       "      <td>25% OFF</td>\n",
       "      <td>217</td>\n",
       "      <td>287</td>\n",
       "      <td>Diwali</td>\n",
       "      <td>12-11-2023</td>\n",
       "      <td>18-11-2023</td>\n",
       "    </tr>\n",
       "    <tr>\n",
       "      <th>1</th>\n",
       "      <td>20618e</td>\n",
       "      <td>STCHE-3</td>\n",
       "      <td>CAMP_SAN_01</td>\n",
       "      <td>P04</td>\n",
       "      <td>370</td>\n",
       "      <td>379.0</td>\n",
       "      <td>BOGOF</td>\n",
       "      <td>185</td>\n",
       "      <td>1622</td>\n",
       "      <td>Sankranti</td>\n",
       "      <td>10-01-2024</td>\n",
       "      <td>16-01-2024</td>\n",
       "    </tr>\n",
       "    <tr>\n",
       "      <th>2</th>\n",
       "      <td>f30579</td>\n",
       "      <td>STBLR-9</td>\n",
       "      <td>CAMP_DIW_01</td>\n",
       "      <td>P02</td>\n",
       "      <td>860</td>\n",
       "      <td>337.0</td>\n",
       "      <td>33% OFF</td>\n",
       "      <td>576</td>\n",
       "      <td>488</td>\n",
       "      <td>Diwali</td>\n",
       "      <td>12-11-2023</td>\n",
       "      <td>18-11-2023</td>\n",
       "    </tr>\n",
       "  </tbody>\n",
       "</table>\n",
       "</div>"
      ],
      "text/plain": [
       "  event_id store_id  campaign_id product_code  base_price(before_promo)  \\\n",
       "0   8481be  STCHE-1  CAMP_DIW_01          P04                       290   \n",
       "1   20618e  STCHE-3  CAMP_SAN_01          P04                       370   \n",
       "2   f30579  STBLR-9  CAMP_DIW_01          P02                       860   \n",
       "\n",
       "   quantity_sold(before_promo) promo_type  base_price(after_promo)  \\\n",
       "0                        327.0    25% OFF                      217   \n",
       "1                        379.0      BOGOF                      185   \n",
       "2                        337.0    33% OFF                      576   \n",
       "\n",
       "   quantity_sold(after_promo) campaign_name  start_date    end_date  \n",
       "0                         287        Diwali  12-11-2023  18-11-2023  \n",
       "1                        1622     Sankranti  10-01-2024  16-01-2024  \n",
       "2                         488        Diwali  12-11-2023  18-11-2023  "
      ]
     },
     "execution_count": 55,
     "metadata": {},
     "output_type": "execute_result"
    }
   ],
   "source": [
    "# Filter rows for Sankranti and Diwali campaigns\n",
    "filtered_campaigns = merged_df_campaigns[merged_df_campaigns['campaign_name'].isin(['Sankranti', 'Diwali'])]\n",
    "filtered_campaigns.head(3)"
   ]
  },
  {
   "cell_type": "code",
   "execution_count": 56,
   "id": "aa009c3e-60b6-4265-a093-80e6071795a4",
   "metadata": {},
   "outputs": [
    {
     "data": {
      "text/html": [
       "<div>\n",
       "<style scoped>\n",
       "    .dataframe tbody tr th:only-of-type {\n",
       "        vertical-align: middle;\n",
       "    }\n",
       "\n",
       "    .dataframe tbody tr th {\n",
       "        vertical-align: top;\n",
       "    }\n",
       "\n",
       "    .dataframe thead th {\n",
       "        text-align: right;\n",
       "    }\n",
       "</style>\n",
       "<table border=\"1\" class=\"dataframe\">\n",
       "  <thead>\n",
       "    <tr style=\"text-align: right;\">\n",
       "      <th></th>\n",
       "      <th>total_quantity_before</th>\n",
       "      <th>total_quantity_after</th>\n",
       "    </tr>\n",
       "    <tr>\n",
       "      <th>campaign_name</th>\n",
       "      <th></th>\n",
       "      <th></th>\n",
       "    </tr>\n",
       "  </thead>\n",
       "  <tbody>\n",
       "    <tr>\n",
       "      <th>Diwali</th>\n",
       "      <td>109756.0</td>\n",
       "      <td>183404</td>\n",
       "    </tr>\n",
       "    <tr>\n",
       "      <th>Sankranti</th>\n",
       "      <td>97894.0</td>\n",
       "      <td>252069</td>\n",
       "    </tr>\n",
       "  </tbody>\n",
       "</table>\n",
       "</div>"
      ],
      "text/plain": [
       "               total_quantity_before  total_quantity_after\n",
       "campaign_name                                             \n",
       "Diwali                      109756.0                183404\n",
       "Sankranti                    97894.0                252069"
      ]
     },
     "execution_count": 56,
     "metadata": {},
     "output_type": "execute_result"
    }
   ],
   "source": [
    "sales_comparison = filtered_campaigns.groupby('campaign_name').agg(\n",
    "    total_quantity_before = ('quantity_sold(before_promo)', 'sum'), \n",
    "    total_quantity_after = ('quantity_sold(after_promo)', 'sum')\n",
    ")\n",
    "sales_comparison.head()"
   ]
  },
  {
   "cell_type": "code",
   "execution_count": 57,
   "id": "e68e412e-6349-4d9e-932b-ed2529b74cda",
   "metadata": {},
   "outputs": [
    {
     "data": {
      "text/html": [
       "<div>\n",
       "<style scoped>\n",
       "    .dataframe tbody tr th:only-of-type {\n",
       "        vertical-align: middle;\n",
       "    }\n",
       "\n",
       "    .dataframe tbody tr th {\n",
       "        vertical-align: top;\n",
       "    }\n",
       "\n",
       "    .dataframe thead th {\n",
       "        text-align: right;\n",
       "    }\n",
       "</style>\n",
       "<table border=\"1\" class=\"dataframe\">\n",
       "  <thead>\n",
       "    <tr style=\"text-align: right;\">\n",
       "      <th></th>\n",
       "      <th>total_quantity_before</th>\n",
       "      <th>total_quantity_after</th>\n",
       "      <th>increase_in_sales</th>\n",
       "    </tr>\n",
       "    <tr>\n",
       "      <th>campaign_name</th>\n",
       "      <th></th>\n",
       "      <th></th>\n",
       "      <th></th>\n",
       "    </tr>\n",
       "  </thead>\n",
       "  <tbody>\n",
       "    <tr>\n",
       "      <th>Diwali</th>\n",
       "      <td>109756.0</td>\n",
       "      <td>183404</td>\n",
       "      <td>73648.0</td>\n",
       "    </tr>\n",
       "    <tr>\n",
       "      <th>Sankranti</th>\n",
       "      <td>97894.0</td>\n",
       "      <td>252069</td>\n",
       "      <td>154175.0</td>\n",
       "    </tr>\n",
       "  </tbody>\n",
       "</table>\n",
       "</div>"
      ],
      "text/plain": [
       "               total_quantity_before  total_quantity_after  increase_in_sales\n",
       "campaign_name                                                                \n",
       "Diwali                      109756.0                183404            73648.0\n",
       "Sankranti                    97894.0                252069           154175.0"
      ]
     },
     "execution_count": 57,
     "metadata": {},
     "output_type": "execute_result"
    }
   ],
   "source": [
    "sales_comparison['increase_in_sales'] = sales_comparison['total_quantity_after'] - sales_comparison['total_quantity_before']\n",
    "sales_comparison"
   ]
  },
  {
   "cell_type": "code",
   "execution_count": 58,
   "id": "7e9d1ba4-ddbe-4f4c-80f1-de1051676c24",
   "metadata": {},
   "outputs": [
    {
     "data": {
      "text/plain": [
       "('Sankranti', np.float64(154175.0))"
      ]
     },
     "execution_count": 58,
     "metadata": {},
     "output_type": "execute_result"
    }
   ],
   "source": [
    "# Determine which campaign saw a greater increase\n",
    "greater_increase = sales_comparison['increase_in_sales'].idxmax()\n",
    "increase_amount = sales_comparison.loc[greater_increase, 'increase_in_sales']\n",
    "greater_increase, increase_amount"
   ]
  },
  {
   "cell_type": "code",
   "execution_count": 59,
   "id": "956a9691-d1e9-4939-9859-cc9f1cbaf089",
   "metadata": {},
   "outputs": [
    {
     "name": "stdout",
     "output_type": "stream",
     "text": [
      "The campaign with the greater increase in sales is 'Sankranti' with an increase of 154175.0 units.\n",
      "               total_quantity_before  total_quantity_after  increase_in_sales\n",
      "campaign_name                                                                \n",
      "Diwali                      109756.0                183404            73648.0\n",
      "Sankranti                    97894.0                252069           154175.0\n"
     ]
    }
   ],
   "source": [
    "print(f\"The campaign with the greater increase in sales is '{greater_increase}' with an increase of {increase_amount} units.\")\n",
    "print(sales_comparison)"
   ]
  },
  {
   "cell_type": "markdown",
   "id": "69dff49b-50e6-448a-aa71-46e6aa17567d",
   "metadata": {},
   "source": [
    "#### Client Requests\n",
    "*8. Which product recorded the highest Incremental Revenue Percentage (IR%) during the Sankranti campaign? What is the IR% for this product?*"
   ]
  },
  {
   "cell_type": "markdown",
   "id": "dc114eaa-9b90-415d-b3a2-83bf8e8c0577",
   "metadata": {},
   "source": [
    "IR% = ( (Revenue After Promo - Revenue Before Promo) / Revenue Before Promo ) * 100"
   ]
  },
  {
   "cell_type": "markdown",
   "id": "be7c8db2-0297-43c0-8028-22fb4ebf5da6",
   "metadata": {},
   "source": [
    "Revenue = Base Price × Quantity Sold"
   ]
  },
  {
   "cell_type": "code",
   "execution_count": 60,
   "id": "ab34c11a-3715-41e4-96be-8e5c728c2e4d",
   "metadata": {},
   "outputs": [
    {
     "data": {
      "text/html": [
       "<div>\n",
       "<style scoped>\n",
       "    .dataframe tbody tr th:only-of-type {\n",
       "        vertical-align: middle;\n",
       "    }\n",
       "\n",
       "    .dataframe tbody tr th {\n",
       "        vertical-align: top;\n",
       "    }\n",
       "\n",
       "    .dataframe thead th {\n",
       "        text-align: right;\n",
       "    }\n",
       "</style>\n",
       "<table border=\"1\" class=\"dataframe\">\n",
       "  <thead>\n",
       "    <tr style=\"text-align: right;\">\n",
       "      <th></th>\n",
       "      <th>total_revenue_before_promo</th>\n",
       "      <th>total_revenue_after_promo</th>\n",
       "    </tr>\n",
       "    <tr>\n",
       "      <th>product_name</th>\n",
       "      <th></th>\n",
       "      <th></th>\n",
       "    </tr>\n",
       "  </thead>\n",
       "  <tbody>\n",
       "    <tr>\n",
       "      <th>Atliq_Body_Milk_Nourishing_Lotion (120ML)</th>\n",
       "      <td>239040.0</td>\n",
       "      <td>146462</td>\n",
       "    </tr>\n",
       "    <tr>\n",
       "      <th>Atliq_Cream_Beauty_Bathing_Soap (125GM)</th>\n",
       "      <td>75400.0</td>\n",
       "      <td>42328</td>\n",
       "    </tr>\n",
       "    <tr>\n",
       "      <th>Atliq_Curtains</th>\n",
       "      <td>583500.0</td>\n",
       "      <td>1065450</td>\n",
       "    </tr>\n",
       "    <tr>\n",
       "      <th>Atliq_Doodh_Kesar_Body_Lotion (200ML)</th>\n",
       "      <td>373350.0</td>\n",
       "      <td>258970</td>\n",
       "    </tr>\n",
       "    <tr>\n",
       "      <th>Atliq_Double_Bedsheet_set</th>\n",
       "      <td>2485910.0</td>\n",
       "      <td>4649330</td>\n",
       "    </tr>\n",
       "    <tr>\n",
       "      <th>Atliq_Farm_Chakki_Atta (1KG)</th>\n",
       "      <td>6813550.0</td>\n",
       "      <td>12779800</td>\n",
       "    </tr>\n",
       "    <tr>\n",
       "      <th>Atliq_Fusion_Container_Set_of_3</th>\n",
       "      <td>561080.0</td>\n",
       "      <td>342722</td>\n",
       "    </tr>\n",
       "    <tr>\n",
       "      <th>Atliq_High_Glo_15W_LED_Bulb</th>\n",
       "      <td>1740550.0</td>\n",
       "      <td>3303125</td>\n",
       "    </tr>\n",
       "    <tr>\n",
       "      <th>Atliq_Home_Essential_8_Product_Combo</th>\n",
       "      <td>16185000.0</td>\n",
       "      <td>31027500</td>\n",
       "    </tr>\n",
       "    <tr>\n",
       "      <th>Atliq_Lime_Cool_Bathing_Bar (125GM)</th>\n",
       "      <td>154132.0</td>\n",
       "      <td>104594</td>\n",
       "    </tr>\n",
       "    <tr>\n",
       "      <th>Atliq_Masoor_Dal (1KG)</th>\n",
       "      <td>2108376.0</td>\n",
       "      <td>2011235</td>\n",
       "    </tr>\n",
       "    <tr>\n",
       "      <th>Atliq_Scrub_Sponge_For_Dishwash</th>\n",
       "      <td>59675.0</td>\n",
       "      <td>35875</td>\n",
       "    </tr>\n",
       "    <tr>\n",
       "      <th>Atliq_Sonamasuri_Rice (10KG)</th>\n",
       "      <td>18374760.0</td>\n",
       "      <td>17262720</td>\n",
       "    </tr>\n",
       "    <tr>\n",
       "      <th>Atliq_Suflower_Oil (1L)</th>\n",
       "      <td>3189600.0</td>\n",
       "      <td>6118500</td>\n",
       "    </tr>\n",
       "    <tr>\n",
       "      <th>Atliq_waterproof_Immersion_Rod</th>\n",
       "      <td>4542060.0</td>\n",
       "      <td>8534850</td>\n",
       "    </tr>\n",
       "  </tbody>\n",
       "</table>\n",
       "</div>"
      ],
      "text/plain": [
       "                                           total_revenue_before_promo  \\\n",
       "product_name                                                            \n",
       "Atliq_Body_Milk_Nourishing_Lotion (120ML)                    239040.0   \n",
       "Atliq_Cream_Beauty_Bathing_Soap (125GM)                       75400.0   \n",
       "Atliq_Curtains                                               583500.0   \n",
       "Atliq_Doodh_Kesar_Body_Lotion (200ML)                        373350.0   \n",
       "Atliq_Double_Bedsheet_set                                   2485910.0   \n",
       "Atliq_Farm_Chakki_Atta (1KG)                                6813550.0   \n",
       "Atliq_Fusion_Container_Set_of_3                              561080.0   \n",
       "Atliq_High_Glo_15W_LED_Bulb                                 1740550.0   \n",
       "Atliq_Home_Essential_8_Product_Combo                       16185000.0   \n",
       "Atliq_Lime_Cool_Bathing_Bar (125GM)                          154132.0   \n",
       "Atliq_Masoor_Dal (1KG)                                      2108376.0   \n",
       "Atliq_Scrub_Sponge_For_Dishwash                               59675.0   \n",
       "Atliq_Sonamasuri_Rice (10KG)                               18374760.0   \n",
       "Atliq_Suflower_Oil (1L)                                     3189600.0   \n",
       "Atliq_waterproof_Immersion_Rod                              4542060.0   \n",
       "\n",
       "                                           total_revenue_after_promo  \n",
       "product_name                                                          \n",
       "Atliq_Body_Milk_Nourishing_Lotion (120ML)                     146462  \n",
       "Atliq_Cream_Beauty_Bathing_Soap (125GM)                        42328  \n",
       "Atliq_Curtains                                               1065450  \n",
       "Atliq_Doodh_Kesar_Body_Lotion (200ML)                         258970  \n",
       "Atliq_Double_Bedsheet_set                                    4649330  \n",
       "Atliq_Farm_Chakki_Atta (1KG)                                12779800  \n",
       "Atliq_Fusion_Container_Set_of_3                               342722  \n",
       "Atliq_High_Glo_15W_LED_Bulb                                  3303125  \n",
       "Atliq_Home_Essential_8_Product_Combo                        31027500  \n",
       "Atliq_Lime_Cool_Bathing_Bar (125GM)                           104594  \n",
       "Atliq_Masoor_Dal (1KG)                                       2011235  \n",
       "Atliq_Scrub_Sponge_For_Dishwash                                35875  \n",
       "Atliq_Sonamasuri_Rice (10KG)                                17262720  \n",
       "Atliq_Suflower_Oil (1L)                                      6118500  \n",
       "Atliq_waterproof_Immersion_Rod                               8534850  "
      ]
     },
     "execution_count": 60,
     "metadata": {},
     "output_type": "execute_result"
    }
   ],
   "source": [
    "# Merge fact_events with dim_campaigns and dim_products\n",
    "events_with_campaigns = pd.merge(df_events_1, df_campaigns, on='campaign_id', how='left')\n",
    "events_with_products = pd.merge(events_with_campaigns, df_products, on='product_code', how='left')\n",
    "\n",
    "# Filter data for Sankranti campaign\n",
    "sankranti_events = events_with_products[events_with_products['campaign_name'] == 'Sankranti'].copy()\n",
    "\n",
    "# Calculate revenue before and after promo\n",
    "sankranti_events['revenue_before_promo'] = sankranti_events['base_price(before_promo)'] * sankranti_events['quantity_sold(before_promo)']\n",
    "sankranti_events['revenue_after_promo'] = sankranti_events['base_price(after_promo)'] * sankranti_events['quantity_sold(after_promo)']\n",
    "\n",
    "# Group by product_name and sum the revenue columns\n",
    "product_revenue = sankranti_events.groupby('product_name').agg(\n",
    "    total_revenue_before_promo = ('revenue_before_promo', 'sum'), \n",
    "    total_revenue_after_promo = ('revenue_after_promo', 'sum')\n",
    ")\n",
    "\n",
    "product_revenue"
   ]
  },
  {
   "cell_type": "code",
   "execution_count": 61,
   "id": "78774de4-2f02-4bc2-a4e4-e88b2c383782",
   "metadata": {},
   "outputs": [
    {
     "data": {
      "text/html": [
       "<div>\n",
       "<style scoped>\n",
       "    .dataframe tbody tr th:only-of-type {\n",
       "        vertical-align: middle;\n",
       "    }\n",
       "\n",
       "    .dataframe tbody tr th {\n",
       "        vertical-align: top;\n",
       "    }\n",
       "\n",
       "    .dataframe thead th {\n",
       "        text-align: right;\n",
       "    }\n",
       "</style>\n",
       "<table border=\"1\" class=\"dataframe\">\n",
       "  <thead>\n",
       "    <tr style=\"text-align: right;\">\n",
       "      <th></th>\n",
       "      <th>product_name</th>\n",
       "      <th>total_revenue_before_promo</th>\n",
       "      <th>total_revenue_after_promo</th>\n",
       "    </tr>\n",
       "  </thead>\n",
       "  <tbody>\n",
       "    <tr>\n",
       "      <th>0</th>\n",
       "      <td>Atliq_Body_Milk_Nourishing_Lotion (120ML)</td>\n",
       "      <td>239040.0</td>\n",
       "      <td>146462</td>\n",
       "    </tr>\n",
       "    <tr>\n",
       "      <th>1</th>\n",
       "      <td>Atliq_Cream_Beauty_Bathing_Soap (125GM)</td>\n",
       "      <td>75400.0</td>\n",
       "      <td>42328</td>\n",
       "    </tr>\n",
       "  </tbody>\n",
       "</table>\n",
       "</div>"
      ],
      "text/plain": [
       "                                product_name  total_revenue_before_promo  \\\n",
       "0  Atliq_Body_Milk_Nourishing_Lotion (120ML)                    239040.0   \n",
       "1    Atliq_Cream_Beauty_Bathing_Soap (125GM)                     75400.0   \n",
       "\n",
       "   total_revenue_after_promo  \n",
       "0                     146462  \n",
       "1                      42328  "
      ]
     },
     "execution_count": 61,
     "metadata": {},
     "output_type": "execute_result"
    }
   ],
   "source": [
    "# Group by product_name and sum the revenue columns\n",
    "product_revenue = sankranti_events.groupby('product_name').agg(\n",
    "    total_revenue_before_promo = ('revenue_before_promo', 'sum'), \n",
    "    total_revenue_after_promo = ('revenue_after_promo', 'sum')\n",
    ").reset_index()\n",
    "\n",
    "product_revenue.head(2)"
   ]
  },
  {
   "cell_type": "code",
   "execution_count": 62,
   "id": "a29c8296-cbdc-4166-bf16-f2b17677e5e7",
   "metadata": {},
   "outputs": [
    {
     "data": {
      "text/html": [
       "<div>\n",
       "<style scoped>\n",
       "    .dataframe tbody tr th:only-of-type {\n",
       "        vertical-align: middle;\n",
       "    }\n",
       "\n",
       "    .dataframe tbody tr th {\n",
       "        vertical-align: top;\n",
       "    }\n",
       "\n",
       "    .dataframe thead th {\n",
       "        text-align: right;\n",
       "    }\n",
       "</style>\n",
       "<table border=\"1\" class=\"dataframe\">\n",
       "  <thead>\n",
       "    <tr style=\"text-align: right;\">\n",
       "      <th></th>\n",
       "      <th>base_price(before_promo)</th>\n",
       "      <th>quantity_sold(before_promo)</th>\n",
       "      <th>base_price(after_promo)</th>\n",
       "      <th>quantity_sold(after_promo)</th>\n",
       "      <th>revenue_before_promo</th>\n",
       "      <th>revenue_after_promo</th>\n",
       "    </tr>\n",
       "  </thead>\n",
       "  <tbody>\n",
       "    <tr>\n",
       "      <th>count</th>\n",
       "      <td>750.000000</td>\n",
       "      <td>750.000000</td>\n",
       "      <td>750.000000</td>\n",
       "      <td>750.00000</td>\n",
       "      <td>750.000000</td>\n",
       "      <td>7.500000e+02</td>\n",
       "    </tr>\n",
       "    <tr>\n",
       "      <th>mean</th>\n",
       "      <td>554.933333</td>\n",
       "      <td>130.525333</td>\n",
       "      <td>365.866667</td>\n",
       "      <td>336.09200</td>\n",
       "      <td>76647.977333</td>\n",
       "      <td>1.169113e+05</td>\n",
       "    </tr>\n",
       "    <tr>\n",
       "      <th>std</th>\n",
       "      <td>740.836902</td>\n",
       "      <td>142.061078</td>\n",
       "      <td>601.114104</td>\n",
       "      <td>443.29151</td>\n",
       "      <td>117610.574738</td>\n",
       "      <td>1.796903e+05</td>\n",
       "    </tr>\n",
       "    <tr>\n",
       "      <th>min</th>\n",
       "      <td>50.000000</td>\n",
       "      <td>10.000000</td>\n",
       "      <td>31.000000</td>\n",
       "      <td>9.00000</td>\n",
       "      <td>550.000000</td>\n",
       "      <td>3.690000e+02</td>\n",
       "    </tr>\n",
       "    <tr>\n",
       "      <th>25%</th>\n",
       "      <td>90.000000</td>\n",
       "      <td>34.000000</td>\n",
       "      <td>67.000000</td>\n",
       "      <td>39.25000</td>\n",
       "      <td>4995.000000</td>\n",
       "      <td>3.283000e+03</td>\n",
       "    </tr>\n",
       "    <tr>\n",
       "      <th>50%</th>\n",
       "      <td>300.000000</td>\n",
       "      <td>60.000000</td>\n",
       "      <td>150.000000</td>\n",
       "      <td>166.00000</td>\n",
       "      <td>28884.000000</td>\n",
       "      <td>3.725750e+04</td>\n",
       "    </tr>\n",
       "    <tr>\n",
       "      <th>75%</th>\n",
       "      <td>860.000000</td>\n",
       "      <td>183.000000</td>\n",
       "      <td>510.000000</td>\n",
       "      <td>419.50000</td>\n",
       "      <td>81932.500000</td>\n",
       "      <td>1.510725e+05</td>\n",
       "    </tr>\n",
       "    <tr>\n",
       "      <th>max</th>\n",
       "      <td>3000.000000</td>\n",
       "      <td>642.000000</td>\n",
       "      <td>2500.000000</td>\n",
       "      <td>2067.00000</td>\n",
       "      <td>552120.000000</td>\n",
       "      <td>1.107500e+06</td>\n",
       "    </tr>\n",
       "  </tbody>\n",
       "</table>\n",
       "</div>"
      ],
      "text/plain": [
       "       base_price(before_promo)  quantity_sold(before_promo)  \\\n",
       "count                750.000000                   750.000000   \n",
       "mean                 554.933333                   130.525333   \n",
       "std                  740.836902                   142.061078   \n",
       "min                   50.000000                    10.000000   \n",
       "25%                   90.000000                    34.000000   \n",
       "50%                  300.000000                    60.000000   \n",
       "75%                  860.000000                   183.000000   \n",
       "max                 3000.000000                   642.000000   \n",
       "\n",
       "       base_price(after_promo)  quantity_sold(after_promo)  \\\n",
       "count               750.000000                   750.00000   \n",
       "mean                365.866667                   336.09200   \n",
       "std                 601.114104                   443.29151   \n",
       "min                  31.000000                     9.00000   \n",
       "25%                  67.000000                    39.25000   \n",
       "50%                 150.000000                   166.00000   \n",
       "75%                 510.000000                   419.50000   \n",
       "max                2500.000000                  2067.00000   \n",
       "\n",
       "       revenue_before_promo  revenue_after_promo  \n",
       "count            750.000000         7.500000e+02  \n",
       "mean           76647.977333         1.169113e+05  \n",
       "std           117610.574738         1.796903e+05  \n",
       "min              550.000000         3.690000e+02  \n",
       "25%             4995.000000         3.283000e+03  \n",
       "50%            28884.000000         3.725750e+04  \n",
       "75%            81932.500000         1.510725e+05  \n",
       "max           552120.000000         1.107500e+06  "
      ]
     },
     "execution_count": 62,
     "metadata": {},
     "output_type": "execute_result"
    }
   ],
   "source": [
    "sankranti_events.describe()"
   ]
  },
  {
   "cell_type": "markdown",
   "id": "798ae400-467c-4d2b-8be5-8f3e666df6db",
   "metadata": {},
   "source": [
    "#### Client Requests\n",
    "*9. Which store in Visakhapatnam recorded the lowest Incremental Sold Units Percentage (ISU%) during the Diwali campaign? What is the ISU% for that store?*"
   ]
  },
  {
   "cell_type": "markdown",
   "id": "3ac5853d-55b5-4597-8839-93fbf3de2cc4",
   "metadata": {},
   "source": [
    "ISU% = (Quantity Sold After Promo - Quantity Sold Before Promo) / (Quantity Sold Before Promo) * 100"
   ]
  },
  {
   "cell_type": "code",
   "execution_count": 63,
   "id": "663dd33a-3c8e-475f-a717-2d4d95b3aa0e",
   "metadata": {},
   "outputs": [
    {
     "name": "stdout",
     "output_type": "stream",
     "text": [
      "(15, 3)\n"
     ]
    },
    {
     "data": {
      "text/html": [
       "<div>\n",
       "<style scoped>\n",
       "    .dataframe tbody tr th:only-of-type {\n",
       "        vertical-align: middle;\n",
       "    }\n",
       "\n",
       "    .dataframe tbody tr th {\n",
       "        vertical-align: top;\n",
       "    }\n",
       "\n",
       "    .dataframe thead th {\n",
       "        text-align: right;\n",
       "    }\n",
       "</style>\n",
       "<table border=\"1\" class=\"dataframe\">\n",
       "  <thead>\n",
       "    <tr style=\"text-align: right;\">\n",
       "      <th></th>\n",
       "      <th>product_name</th>\n",
       "      <th>total_revenue_before_promo</th>\n",
       "      <th>total_revenue_after_promo</th>\n",
       "    </tr>\n",
       "  </thead>\n",
       "  <tbody>\n",
       "    <tr>\n",
       "      <th>0</th>\n",
       "      <td>Atliq_Body_Milk_Nourishing_Lotion (120ML)</td>\n",
       "      <td>239040.0</td>\n",
       "      <td>146462</td>\n",
       "    </tr>\n",
       "    <tr>\n",
       "      <th>1</th>\n",
       "      <td>Atliq_Cream_Beauty_Bathing_Soap (125GM)</td>\n",
       "      <td>75400.0</td>\n",
       "      <td>42328</td>\n",
       "    </tr>\n",
       "    <tr>\n",
       "      <th>2</th>\n",
       "      <td>Atliq_Curtains</td>\n",
       "      <td>583500.0</td>\n",
       "      <td>1065450</td>\n",
       "    </tr>\n",
       "  </tbody>\n",
       "</table>\n",
       "</div>"
      ],
      "text/plain": [
       "                                product_name  total_revenue_before_promo  \\\n",
       "0  Atliq_Body_Milk_Nourishing_Lotion (120ML)                    239040.0   \n",
       "1    Atliq_Cream_Beauty_Bathing_Soap (125GM)                     75400.0   \n",
       "2                             Atliq_Curtains                    583500.0   \n",
       "\n",
       "   total_revenue_after_promo  \n",
       "0                     146462  \n",
       "1                      42328  \n",
       "2                    1065450  "
      ]
     },
     "execution_count": 63,
     "metadata": {},
     "output_type": "execute_result"
    }
   ],
   "source": [
    "# Merge fact_events with dim_campaigns and dim_products\n",
    "events_with_campaigns = pd.merge(df_events_1, df_campaigns, on='campaign_id', how='left')\n",
    "events_with_products = pd.merge(events_with_campaigns, df_products, on='product_code', how='left')\n",
    "\n",
    "# Filter data for Sankranti campaign\n",
    "sankranti_events = events_with_products[events_with_products['campaign_name'] == 'Sankranti'].copy()\n",
    "\n",
    "# Calculate revenue before and after promo\n",
    "sankranti_events['revenue_before_promo'] = sankranti_events['base_price(before_promo)'] * sankranti_events['quantity_sold(before_promo)']\n",
    "sankranti_events['revenue_after_promo'] = sankranti_events['base_price(after_promo)'] * sankranti_events['quantity_sold(after_promo)']\n",
    "\n",
    "# Group by product_name and sum the revenue columns\n",
    "product_revenue = sankranti_events.groupby('product_name').agg(\n",
    "    total_revenue_before_promo = ('revenue_before_promo', 'sum'), \n",
    "    total_revenue_after_promo = ('revenue_after_promo', 'sum')\n",
    ").reset_index()\n",
    "print(product_revenue.shape)\n",
    "product_revenue.head(3)"
   ]
  },
  {
   "cell_type": "code",
   "execution_count": 71,
   "id": "cc93c74e-1bb2-408f-9476-9d8ed8fc3720",
   "metadata": {},
   "outputs": [
    {
     "data": {
      "text/html": [
       "<div>\n",
       "<style scoped>\n",
       "    .dataframe tbody tr th:only-of-type {\n",
       "        vertical-align: middle;\n",
       "    }\n",
       "\n",
       "    .dataframe tbody tr th {\n",
       "        vertical-align: top;\n",
       "    }\n",
       "\n",
       "    .dataframe thead th {\n",
       "        text-align: right;\n",
       "    }\n",
       "</style>\n",
       "<table border=\"1\" class=\"dataframe\">\n",
       "  <thead>\n",
       "    <tr style=\"text-align: right;\">\n",
       "      <th></th>\n",
       "      <th>event_id</th>\n",
       "      <th>store_id</th>\n",
       "      <th>campaign_id</th>\n",
       "      <th>product_code</th>\n",
       "      <th>base_price(before_promo)</th>\n",
       "      <th>quantity_sold(before_promo)</th>\n",
       "      <th>promo_type</th>\n",
       "      <th>base_price(after_promo)</th>\n",
       "      <th>quantity_sold(after_promo)</th>\n",
       "      <th>campaign_name</th>\n",
       "      <th>start_date</th>\n",
       "      <th>end_date</th>\n",
       "      <th>product_name</th>\n",
       "      <th>category</th>\n",
       "    </tr>\n",
       "  </thead>\n",
       "  <tbody>\n",
       "    <tr>\n",
       "      <th>0</th>\n",
       "      <td>8481be</td>\n",
       "      <td>STCHE-1</td>\n",
       "      <td>CAMP_DIW_01</td>\n",
       "      <td>P04</td>\n",
       "      <td>290</td>\n",
       "      <td>327.0</td>\n",
       "      <td>25% OFF</td>\n",
       "      <td>217</td>\n",
       "      <td>287</td>\n",
       "      <td>Diwali</td>\n",
       "      <td>12-11-2023</td>\n",
       "      <td>18-11-2023</td>\n",
       "      <td>Atliq_Farm_Chakki_Atta (1KG)</td>\n",
       "      <td>Grocery &amp; Staples</td>\n",
       "    </tr>\n",
       "    <tr>\n",
       "      <th>1</th>\n",
       "      <td>20618e</td>\n",
       "      <td>STCHE-3</td>\n",
       "      <td>CAMP_SAN_01</td>\n",
       "      <td>P04</td>\n",
       "      <td>370</td>\n",
       "      <td>379.0</td>\n",
       "      <td>BOGOF</td>\n",
       "      <td>185</td>\n",
       "      <td>1622</td>\n",
       "      <td>Sankranti</td>\n",
       "      <td>10-01-2024</td>\n",
       "      <td>16-01-2024</td>\n",
       "      <td>Atliq_Farm_Chakki_Atta (1KG)</td>\n",
       "      <td>Grocery &amp; Staples</td>\n",
       "    </tr>\n",
       "    <tr>\n",
       "      <th>2</th>\n",
       "      <td>f30579</td>\n",
       "      <td>STBLR-9</td>\n",
       "      <td>CAMP_DIW_01</td>\n",
       "      <td>P02</td>\n",
       "      <td>860</td>\n",
       "      <td>337.0</td>\n",
       "      <td>33% OFF</td>\n",
       "      <td>576</td>\n",
       "      <td>488</td>\n",
       "      <td>Diwali</td>\n",
       "      <td>12-11-2023</td>\n",
       "      <td>18-11-2023</td>\n",
       "      <td>Atliq_Sonamasuri_Rice (10KG)</td>\n",
       "      <td>Grocery &amp; Staples</td>\n",
       "    </tr>\n",
       "    <tr>\n",
       "      <th>3</th>\n",
       "      <td>4f570c</td>\n",
       "      <td>STBLR-7</td>\n",
       "      <td>CAMP_DIW_01</td>\n",
       "      <td>P05</td>\n",
       "      <td>55</td>\n",
       "      <td>122.0</td>\n",
       "      <td>25% OFF</td>\n",
       "      <td>41</td>\n",
       "      <td>107</td>\n",
       "      <td>Diwali</td>\n",
       "      <td>12-11-2023</td>\n",
       "      <td>18-11-2023</td>\n",
       "      <td>Atliq_Scrub_Sponge_For_Dishwash</td>\n",
       "      <td>Home Care</td>\n",
       "    </tr>\n",
       "    <tr>\n",
       "      <th>4</th>\n",
       "      <td>6d153f</td>\n",
       "      <td>STHYD-5</td>\n",
       "      <td>CAMP_SAN_01</td>\n",
       "      <td>P15</td>\n",
       "      <td>3000</td>\n",
       "      <td>122.0</td>\n",
       "      <td>500 Cashback</td>\n",
       "      <td>2500</td>\n",
       "      <td>272</td>\n",
       "      <td>Sankranti</td>\n",
       "      <td>10-01-2024</td>\n",
       "      <td>16-01-2024</td>\n",
       "      <td>Atliq_Home_Essential_8_Product_Combo</td>\n",
       "      <td>Combo1</td>\n",
       "    </tr>\n",
       "  </tbody>\n",
       "</table>\n",
       "</div>"
      ],
      "text/plain": [
       "  event_id store_id  campaign_id product_code  base_price(before_promo)  \\\n",
       "0   8481be  STCHE-1  CAMP_DIW_01          P04                       290   \n",
       "1   20618e  STCHE-3  CAMP_SAN_01          P04                       370   \n",
       "2   f30579  STBLR-9  CAMP_DIW_01          P02                       860   \n",
       "3   4f570c  STBLR-7  CAMP_DIW_01          P05                        55   \n",
       "4   6d153f  STHYD-5  CAMP_SAN_01          P15                      3000   \n",
       "\n",
       "   quantity_sold(before_promo)    promo_type  base_price(after_promo)  \\\n",
       "0                        327.0       25% OFF                      217   \n",
       "1                        379.0         BOGOF                      185   \n",
       "2                        337.0       33% OFF                      576   \n",
       "3                        122.0       25% OFF                       41   \n",
       "4                        122.0  500 Cashback                     2500   \n",
       "\n",
       "   quantity_sold(after_promo) campaign_name  start_date    end_date  \\\n",
       "0                         287        Diwali  12-11-2023  18-11-2023   \n",
       "1                        1622     Sankranti  10-01-2024  16-01-2024   \n",
       "2                         488        Diwali  12-11-2023  18-11-2023   \n",
       "3                         107        Diwali  12-11-2023  18-11-2023   \n",
       "4                         272     Sankranti  10-01-2024  16-01-2024   \n",
       "\n",
       "                           product_name           category  \n",
       "0          Atliq_Farm_Chakki_Atta (1KG)  Grocery & Staples  \n",
       "1          Atliq_Farm_Chakki_Atta (1KG)  Grocery & Staples  \n",
       "2          Atliq_Sonamasuri_Rice (10KG)  Grocery & Staples  \n",
       "3       Atliq_Scrub_Sponge_For_Dishwash          Home Care  \n",
       "4  Atliq_Home_Essential_8_Product_Combo             Combo1  "
      ]
     },
     "execution_count": 71,
     "metadata": {},
     "output_type": "execute_result"
    }
   ],
   "source": [
    "events_with_products.head()"
   ]
  },
  {
   "cell_type": "code",
   "execution_count": 64,
   "id": "693d58e0-0c5a-4ca5-a5ac-56f4412cbcbe",
   "metadata": {},
   "outputs": [
    {
     "name": "stdout",
     "output_type": "stream",
     "text": [
      "(75, 13)\n"
     ]
    },
    {
     "data": {
      "text/html": [
       "<div>\n",
       "<style scoped>\n",
       "    .dataframe tbody tr th:only-of-type {\n",
       "        vertical-align: middle;\n",
       "    }\n",
       "\n",
       "    .dataframe tbody tr th {\n",
       "        vertical-align: top;\n",
       "    }\n",
       "\n",
       "    .dataframe thead th {\n",
       "        text-align: right;\n",
       "    }\n",
       "</style>\n",
       "<table border=\"1\" class=\"dataframe\">\n",
       "  <thead>\n",
       "    <tr style=\"text-align: right;\">\n",
       "      <th></th>\n",
       "      <th>event_id</th>\n",
       "      <th>store_id</th>\n",
       "      <th>campaign_id</th>\n",
       "      <th>product_code</th>\n",
       "      <th>base_price(before_promo)</th>\n",
       "      <th>quantity_sold(before_promo)</th>\n",
       "      <th>promo_type</th>\n",
       "      <th>base_price(after_promo)</th>\n",
       "      <th>quantity_sold(after_promo)</th>\n",
       "      <th>campaign_name</th>\n",
       "      <th>start_date</th>\n",
       "      <th>end_date</th>\n",
       "      <th>city</th>\n",
       "    </tr>\n",
       "  </thead>\n",
       "  <tbody>\n",
       "    <tr>\n",
       "      <th>27</th>\n",
       "      <td>ba86f4</td>\n",
       "      <td>STVSK-1</td>\n",
       "      <td>CAMP_DIW_01</td>\n",
       "      <td>P13</td>\n",
       "      <td>350</td>\n",
       "      <td>61.0</td>\n",
       "      <td>BOGOF</td>\n",
       "      <td>175</td>\n",
       "      <td>204</td>\n",
       "      <td>Diwali</td>\n",
       "      <td>12-11-2023</td>\n",
       "      <td>18-11-2023</td>\n",
       "      <td>Visakhapatnam</td>\n",
       "    </tr>\n",
       "    <tr>\n",
       "      <th>64</th>\n",
       "      <td>9779b0</td>\n",
       "      <td>STVSK-2</td>\n",
       "      <td>CAMP_DIW_01</td>\n",
       "      <td>P10</td>\n",
       "      <td>65</td>\n",
       "      <td>85.0</td>\n",
       "      <td>50% OFF</td>\n",
       "      <td>32</td>\n",
       "      <td>128</td>\n",
       "      <td>Diwali</td>\n",
       "      <td>12-11-2023</td>\n",
       "      <td>18-11-2023</td>\n",
       "      <td>Visakhapatnam</td>\n",
       "    </tr>\n",
       "  </tbody>\n",
       "</table>\n",
       "</div>"
      ],
      "text/plain": [
       "   event_id store_id  campaign_id product_code  base_price(before_promo)  \\\n",
       "27   ba86f4  STVSK-1  CAMP_DIW_01          P13                       350   \n",
       "64   9779b0  STVSK-2  CAMP_DIW_01          P10                        65   \n",
       "\n",
       "    quantity_sold(before_promo) promo_type  base_price(after_promo)  \\\n",
       "27                         61.0      BOGOF                      175   \n",
       "64                         85.0    50% OFF                       32   \n",
       "\n",
       "    quantity_sold(after_promo) campaign_name  start_date    end_date  \\\n",
       "27                         204        Diwali  12-11-2023  18-11-2023   \n",
       "64                         128        Diwali  12-11-2023  18-11-2023   \n",
       "\n",
       "             city  \n",
       "27  Visakhapatnam  \n",
       "64  Visakhapatnam  "
      ]
     },
     "execution_count": 64,
     "metadata": {},
     "output_type": "execute_result"
    }
   ],
   "source": [
    "# Merge fact_events with dim_campaigns and dim_stores\n",
    "events_with_stores = pd.merge(events_with_campaigns, df_stores, on='store_id', how='left')\n",
    "# Filter data for Diwali campaign in Visakhapatnam\n",
    "diwali_events = events_with_stores[(events_with_stores['campaign_name']=='Diwali') & (events_with_stores['city']=='Visakhapatnam')].copy()\n",
    "print(diwali_events.shape)\n",
    "diwali_events.head(2)"
   ]
  },
  {
   "cell_type": "code",
   "execution_count": 72,
   "id": "8814a116-c7cb-42f2-9c09-18eef8b70691",
   "metadata": {},
   "outputs": [
    {
     "data": {
      "text/html": [
       "<div>\n",
       "<style scoped>\n",
       "    .dataframe tbody tr th:only-of-type {\n",
       "        vertical-align: middle;\n",
       "    }\n",
       "\n",
       "    .dataframe tbody tr th {\n",
       "        vertical-align: top;\n",
       "    }\n",
       "\n",
       "    .dataframe thead th {\n",
       "        text-align: right;\n",
       "    }\n",
       "</style>\n",
       "<table border=\"1\" class=\"dataframe\">\n",
       "  <thead>\n",
       "    <tr style=\"text-align: right;\">\n",
       "      <th></th>\n",
       "      <th>event_id</th>\n",
       "      <th>store_id</th>\n",
       "      <th>campaign_id</th>\n",
       "      <th>product_code</th>\n",
       "      <th>base_price(before_promo)</th>\n",
       "      <th>quantity_sold(before_promo)</th>\n",
       "      <th>promo_type</th>\n",
       "      <th>base_price(after_promo)</th>\n",
       "      <th>quantity_sold(after_promo)</th>\n",
       "      <th>campaign_name</th>\n",
       "      <th>start_date</th>\n",
       "      <th>end_date</th>\n",
       "      <th>city</th>\n",
       "    </tr>\n",
       "  </thead>\n",
       "  <tbody>\n",
       "    <tr>\n",
       "      <th>0</th>\n",
       "      <td>8481be</td>\n",
       "      <td>STCHE-1</td>\n",
       "      <td>CAMP_DIW_01</td>\n",
       "      <td>P04</td>\n",
       "      <td>290</td>\n",
       "      <td>327.0</td>\n",
       "      <td>25% OFF</td>\n",
       "      <td>217</td>\n",
       "      <td>287</td>\n",
       "      <td>Diwali</td>\n",
       "      <td>12-11-2023</td>\n",
       "      <td>18-11-2023</td>\n",
       "      <td>Chennai</td>\n",
       "    </tr>\n",
       "    <tr>\n",
       "      <th>1</th>\n",
       "      <td>20618e</td>\n",
       "      <td>STCHE-3</td>\n",
       "      <td>CAMP_SAN_01</td>\n",
       "      <td>P04</td>\n",
       "      <td>370</td>\n",
       "      <td>379.0</td>\n",
       "      <td>BOGOF</td>\n",
       "      <td>185</td>\n",
       "      <td>1622</td>\n",
       "      <td>Sankranti</td>\n",
       "      <td>10-01-2024</td>\n",
       "      <td>16-01-2024</td>\n",
       "      <td>Chennai</td>\n",
       "    </tr>\n",
       "    <tr>\n",
       "      <th>2</th>\n",
       "      <td>f30579</td>\n",
       "      <td>STBLR-9</td>\n",
       "      <td>CAMP_DIW_01</td>\n",
       "      <td>P02</td>\n",
       "      <td>860</td>\n",
       "      <td>337.0</td>\n",
       "      <td>33% OFF</td>\n",
       "      <td>576</td>\n",
       "      <td>488</td>\n",
       "      <td>Diwali</td>\n",
       "      <td>12-11-2023</td>\n",
       "      <td>18-11-2023</td>\n",
       "      <td>Bengaluru</td>\n",
       "    </tr>\n",
       "  </tbody>\n",
       "</table>\n",
       "</div>"
      ],
      "text/plain": [
       "  event_id store_id  campaign_id product_code  base_price(before_promo)  \\\n",
       "0   8481be  STCHE-1  CAMP_DIW_01          P04                       290   \n",
       "1   20618e  STCHE-3  CAMP_SAN_01          P04                       370   \n",
       "2   f30579  STBLR-9  CAMP_DIW_01          P02                       860   \n",
       "\n",
       "   quantity_sold(before_promo) promo_type  base_price(after_promo)  \\\n",
       "0                        327.0    25% OFF                      217   \n",
       "1                        379.0      BOGOF                      185   \n",
       "2                        337.0    33% OFF                      576   \n",
       "\n",
       "   quantity_sold(after_promo) campaign_name  start_date    end_date       city  \n",
       "0                         287        Diwali  12-11-2023  18-11-2023    Chennai  \n",
       "1                        1622     Sankranti  10-01-2024  16-01-2024    Chennai  \n",
       "2                         488        Diwali  12-11-2023  18-11-2023  Bengaluru  "
      ]
     },
     "execution_count": 72,
     "metadata": {},
     "output_type": "execute_result"
    }
   ],
   "source": [
    "events_with_stores.head(3)"
   ]
  },
  {
   "cell_type": "code",
   "execution_count": 65,
   "id": "27619c5d-bfdf-4a72-b2a9-b97880d9a7ce",
   "metadata": {},
   "outputs": [
    {
     "name": "stdout",
     "output_type": "stream",
     "text": [
      "STVSK-3,49.21\n"
     ]
    }
   ],
   "source": [
    "# Group by store_id and sum the sold units\n",
    "store_sold_units = diwali_events.groupby('store_id').agg(\n",
    "    total_sold_units_before_promo = ('quantity_sold(before_promo)', 'sum'), \n",
    "    total_sold_units_after_promo = ('quantity_sold(after_promo)', 'sum') \t\n",
    ").reset_index()\n",
    "# store_sold_units\n",
    "# Calculate Incremental Sold Units Percentage (ISU%)\n",
    "store_sold_units['ISU%'] = (\n",
    "    (store_sold_units['total_sold_units_after_promo'] - store_sold_units['total_sold_units_before_promo']) / (store_sold_units['total_sold_units_before_promo']) * 100\n",
    ")\n",
    "# store_sold_units\n",
    "# Find the store with the lowest ISU%\n",
    "lowest_isu_store = store_sold_units.loc[store_sold_units['ISU%'].idxmin()]\n",
    "\n",
    "# Print the results\n",
    "print(f\"{lowest_isu_store['store_id']},{lowest_isu_store['ISU%']:.2f}\")"
   ]
  },
  {
   "cell_type": "markdown",
   "id": "62552cb3-384b-4bab-9b40-197dbf4f83b8",
   "metadata": {},
   "source": [
    "#### Client Requests\n",
    "*10. Which promo type had both a negative Incremental Revenue Percentage (IR%) and Incremental Sold Units Percentage (ISU%) during the Sankranti campaign?*"
   ]
  },
  {
   "cell_type": "code",
   "execution_count": 66,
   "id": "94adfdb1-a82a-4da8-a46e-020066d380f1",
   "metadata": {},
   "outputs": [
    {
     "data": {
      "text/html": [
       "<div>\n",
       "<style scoped>\n",
       "    .dataframe tbody tr th:only-of-type {\n",
       "        vertical-align: middle;\n",
       "    }\n",
       "\n",
       "    .dataframe tbody tr th {\n",
       "        vertical-align: top;\n",
       "    }\n",
       "\n",
       "    .dataframe thead th {\n",
       "        text-align: right;\n",
       "    }\n",
       "</style>\n",
       "<table border=\"1\" class=\"dataframe\">\n",
       "  <thead>\n",
       "    <tr style=\"text-align: right;\">\n",
       "      <th></th>\n",
       "      <th>event_id</th>\n",
       "      <th>store_id</th>\n",
       "      <th>campaign_id</th>\n",
       "      <th>product_code</th>\n",
       "      <th>base_price(before_promo)</th>\n",
       "      <th>quantity_sold(before_promo)</th>\n",
       "      <th>promo_type</th>\n",
       "      <th>base_price(after_promo)</th>\n",
       "      <th>quantity_sold(after_promo)</th>\n",
       "      <th>campaign_name</th>\n",
       "      <th>start_date</th>\n",
       "      <th>end_date</th>\n",
       "      <th>product_name</th>\n",
       "      <th>category</th>\n",
       "      <th>revenue_before_promo</th>\n",
       "      <th>revenue_after_promo</th>\n",
       "    </tr>\n",
       "  </thead>\n",
       "  <tbody>\n",
       "    <tr>\n",
       "      <th>1</th>\n",
       "      <td>20618e</td>\n",
       "      <td>STCHE-3</td>\n",
       "      <td>CAMP_SAN_01</td>\n",
       "      <td>P04</td>\n",
       "      <td>370</td>\n",
       "      <td>379.0</td>\n",
       "      <td>BOGOF</td>\n",
       "      <td>185</td>\n",
       "      <td>1622</td>\n",
       "      <td>Sankranti</td>\n",
       "      <td>10-01-2024</td>\n",
       "      <td>16-01-2024</td>\n",
       "      <td>Atliq_Farm_Chakki_Atta (1KG)</td>\n",
       "      <td>Grocery &amp; Staples</td>\n",
       "      <td>140230.0</td>\n",
       "      <td>300070</td>\n",
       "    </tr>\n",
       "    <tr>\n",
       "      <th>4</th>\n",
       "      <td>6d153f</td>\n",
       "      <td>STHYD-5</td>\n",
       "      <td>CAMP_SAN_01</td>\n",
       "      <td>P15</td>\n",
       "      <td>3000</td>\n",
       "      <td>122.0</td>\n",
       "      <td>500 Cashback</td>\n",
       "      <td>2500</td>\n",
       "      <td>272</td>\n",
       "      <td>Sankranti</td>\n",
       "      <td>10-01-2024</td>\n",
       "      <td>16-01-2024</td>\n",
       "      <td>Atliq_Home_Essential_8_Product_Combo</td>\n",
       "      <td>Combo1</td>\n",
       "      <td>366000.0</td>\n",
       "      <td>680000</td>\n",
       "    </tr>\n",
       "    <tr>\n",
       "      <th>7</th>\n",
       "      <td>6.88E+10</td>\n",
       "      <td>STVJD-0</td>\n",
       "      <td>CAMP_SAN_01</td>\n",
       "      <td>P08</td>\n",
       "      <td>1190</td>\n",
       "      <td>22.0</td>\n",
       "      <td>BOGOF</td>\n",
       "      <td>595</td>\n",
       "      <td>88</td>\n",
       "      <td>Sankranti</td>\n",
       "      <td>10-01-2024</td>\n",
       "      <td>16-01-2024</td>\n",
       "      <td>Atliq_Double_Bedsheet_set</td>\n",
       "      <td>Home Care</td>\n",
       "      <td>26180.0</td>\n",
       "      <td>52360</td>\n",
       "    </tr>\n",
       "  </tbody>\n",
       "</table>\n",
       "</div>"
      ],
      "text/plain": [
       "   event_id store_id  campaign_id product_code  base_price(before_promo)  \\\n",
       "1    20618e  STCHE-3  CAMP_SAN_01          P04                       370   \n",
       "4    6d153f  STHYD-5  CAMP_SAN_01          P15                      3000   \n",
       "7  6.88E+10  STVJD-0  CAMP_SAN_01          P08                      1190   \n",
       "\n",
       "   quantity_sold(before_promo)    promo_type  base_price(after_promo)  \\\n",
       "1                        379.0         BOGOF                      185   \n",
       "4                        122.0  500 Cashback                     2500   \n",
       "7                         22.0         BOGOF                      595   \n",
       "\n",
       "   quantity_sold(after_promo) campaign_name  start_date    end_date  \\\n",
       "1                        1622     Sankranti  10-01-2024  16-01-2024   \n",
       "4                         272     Sankranti  10-01-2024  16-01-2024   \n",
       "7                          88     Sankranti  10-01-2024  16-01-2024   \n",
       "\n",
       "                           product_name           category  \\\n",
       "1          Atliq_Farm_Chakki_Atta (1KG)  Grocery & Staples   \n",
       "4  Atliq_Home_Essential_8_Product_Combo             Combo1   \n",
       "7             Atliq_Double_Bedsheet_set          Home Care   \n",
       "\n",
       "   revenue_before_promo  revenue_after_promo  \n",
       "1              140230.0               300070  \n",
       "4              366000.0               680000  \n",
       "7               26180.0                52360  "
      ]
     },
     "execution_count": 66,
     "metadata": {},
     "output_type": "execute_result"
    }
   ],
   "source": [
    "sankranti_events.head(3)"
   ]
  },
  {
   "cell_type": "code",
   "execution_count": 67,
   "id": "23dd57ee-d598-4c61-854e-b2624b2fcd5d",
   "metadata": {},
   "outputs": [
    {
     "data": {
      "text/html": [
       "<div>\n",
       "<style scoped>\n",
       "    .dataframe tbody tr th:only-of-type {\n",
       "        vertical-align: middle;\n",
       "    }\n",
       "\n",
       "    .dataframe tbody tr th {\n",
       "        vertical-align: top;\n",
       "    }\n",
       "\n",
       "    .dataframe thead th {\n",
       "        text-align: right;\n",
       "    }\n",
       "</style>\n",
       "<table border=\"1\" class=\"dataframe\">\n",
       "  <thead>\n",
       "    <tr style=\"text-align: right;\">\n",
       "      <th></th>\n",
       "      <th>promo_type</th>\n",
       "      <th>total_revenue_before_promo</th>\n",
       "      <th>total_revenue_after_promo</th>\n",
       "      <th>total_quantity_sold_before_promo</th>\n",
       "      <th>total_quantity_sold_after_promo</th>\n",
       "      <th>IR%</th>\n",
       "      <th>ISU%</th>\n",
       "    </tr>\n",
       "  </thead>\n",
       "  <tbody>\n",
       "    <tr>\n",
       "      <th>0</th>\n",
       "      <td>25% OFF</td>\n",
       "      <td>935195.0</td>\n",
       "      <td>567387</td>\n",
       "      <td>6601.0</td>\n",
       "      <td>5307</td>\n",
       "      <td>-39.329552</td>\n",
       "      <td>-19.603090</td>\n",
       "    </tr>\n",
       "    <tr>\n",
       "      <th>1</th>\n",
       "      <td>33% OFF</td>\n",
       "      <td>20483136.0</td>\n",
       "      <td>19273955</td>\n",
       "      <td>33624.0</td>\n",
       "      <td>47459</td>\n",
       "      <td>-5.903300</td>\n",
       "      <td>41.146205</td>\n",
       "    </tr>\n",
       "    <tr>\n",
       "      <th>2</th>\n",
       "      <td>50% OFF</td>\n",
       "      <td>527482.0</td>\n",
       "      <td>363564</td>\n",
       "      <td>4451.0</td>\n",
       "      <td>6100</td>\n",
       "      <td>-31.075563</td>\n",
       "      <td>37.047854</td>\n",
       "    </tr>\n",
       "    <tr>\n",
       "      <th>3</th>\n",
       "      <td>500 Cashback</td>\n",
       "      <td>16185000.0</td>\n",
       "      <td>31027500</td>\n",
       "      <td>5395.0</td>\n",
       "      <td>12411</td>\n",
       "      <td>91.705283</td>\n",
       "      <td>130.046339</td>\n",
       "    </tr>\n",
       "    <tr>\n",
       "      <th>4</th>\n",
       "      <td>BOGOF</td>\n",
       "      <td>19355170.0</td>\n",
       "      <td>36451055</td>\n",
       "      <td>47823.0</td>\n",
       "      <td>180792</td>\n",
       "      <td>88.327227</td>\n",
       "      <td>278.044037</td>\n",
       "    </tr>\n",
       "  </tbody>\n",
       "</table>\n",
       "</div>"
      ],
      "text/plain": [
       "     promo_type  total_revenue_before_promo  total_revenue_after_promo  \\\n",
       "0       25% OFF                    935195.0                     567387   \n",
       "1       33% OFF                  20483136.0                   19273955   \n",
       "2       50% OFF                    527482.0                     363564   \n",
       "3  500 Cashback                  16185000.0                   31027500   \n",
       "4         BOGOF                  19355170.0                   36451055   \n",
       "\n",
       "   total_quantity_sold_before_promo  total_quantity_sold_after_promo  \\\n",
       "0                            6601.0                             5307   \n",
       "1                           33624.0                            47459   \n",
       "2                            4451.0                             6100   \n",
       "3                            5395.0                            12411   \n",
       "4                           47823.0                           180792   \n",
       "\n",
       "         IR%        ISU%  \n",
       "0 -39.329552  -19.603090  \n",
       "1  -5.903300   41.146205  \n",
       "2 -31.075563   37.047854  \n",
       "3  91.705283  130.046339  \n",
       "4  88.327227  278.044037  "
      ]
     },
     "execution_count": 67,
     "metadata": {},
     "output_type": "execute_result"
    }
   ],
   "source": [
    "# Group by promo_type and sum the revenue columns\n",
    "promo_revenue = sankranti_events.groupby('promo_type').agg(\n",
    "    total_revenue_before_promo = ('revenue_before_promo', 'sum'), \n",
    "    total_revenue_after_promo = ('revenue_after_promo', 'sum'), \n",
    "    total_quantity_sold_before_promo = ('quantity_sold(before_promo)', 'sum'), \n",
    "    total_quantity_sold_after_promo = ('quantity_sold(after_promo)', 'sum')\n",
    ").reset_index()\n",
    "\n",
    "promo_revenue['IR%'] = (promo_revenue['total_revenue_after_promo'] - promo_revenue['total_revenue_before_promo']) / (promo_revenue['total_revenue_before_promo']) * 100\n",
    "promo_revenue['ISU%'] = (promo_revenue['total_quantity_sold_after_promo'] - promo_revenue['total_quantity_sold_before_promo']) / (promo_revenue['total_quantity_sold_before_promo']) * 100\n",
    "promo_revenue"
   ]
  },
  {
   "cell_type": "code",
   "execution_count": 68,
   "id": "e4d42b28-c9ea-4cf4-8fc2-e6eb2b1b4d5c",
   "metadata": {},
   "outputs": [
    {
     "data": {
      "text/html": [
       "<div>\n",
       "<style scoped>\n",
       "    .dataframe tbody tr th:only-of-type {\n",
       "        vertical-align: middle;\n",
       "    }\n",
       "\n",
       "    .dataframe tbody tr th {\n",
       "        vertical-align: top;\n",
       "    }\n",
       "\n",
       "    .dataframe thead th {\n",
       "        text-align: right;\n",
       "    }\n",
       "</style>\n",
       "<table border=\"1\" class=\"dataframe\">\n",
       "  <thead>\n",
       "    <tr style=\"text-align: right;\">\n",
       "      <th></th>\n",
       "      <th>promo_type</th>\n",
       "      <th>total_revenue_before_promo</th>\n",
       "      <th>total_revenue_after_promo</th>\n",
       "      <th>total_quantity_sold_before_promo</th>\n",
       "      <th>total_quantity_sold_after_promo</th>\n",
       "      <th>IR%</th>\n",
       "      <th>ISU%</th>\n",
       "    </tr>\n",
       "  </thead>\n",
       "  <tbody>\n",
       "    <tr>\n",
       "      <th>0</th>\n",
       "      <td>25% OFF</td>\n",
       "      <td>935195.0</td>\n",
       "      <td>567387</td>\n",
       "      <td>6601.0</td>\n",
       "      <td>5307</td>\n",
       "      <td>-39.329552</td>\n",
       "      <td>-19.60309</td>\n",
       "    </tr>\n",
       "  </tbody>\n",
       "</table>\n",
       "</div>"
      ],
      "text/plain": [
       "  promo_type  total_revenue_before_promo  total_revenue_after_promo  \\\n",
       "0    25% OFF                    935195.0                     567387   \n",
       "\n",
       "   total_quantity_sold_before_promo  total_quantity_sold_after_promo  \\\n",
       "0                            6601.0                             5307   \n",
       "\n",
       "         IR%      ISU%  \n",
       "0 -39.329552 -19.60309  "
      ]
     },
     "execution_count": 68,
     "metadata": {},
     "output_type": "execute_result"
    }
   ],
   "source": [
    "negative_promo_types = promo_revenue[(promo_revenue['IR%'] < 0) & (promo_revenue['ISU%'] < 0)]\n",
    "negative_promo_types"
   ]
  },
  {
   "cell_type": "code",
   "execution_count": 69,
   "id": "9b81774a-2e63-4709-9733-72bee189bdb6",
   "metadata": {},
   "outputs": [
    {
     "name": "stdout",
     "output_type": "stream",
     "text": [
      "25% OFF,-39.33,-19.60\n"
     ]
    }
   ],
   "source": [
    "print(f\"{negative_promo_types.iloc[0]['promo_type']},{negative_promo_types.iloc[0]['IR%']:.2f},{negative_promo_types.iloc[0]['ISU%']:.2f}\")"
   ]
  },
  {
   "cell_type": "code",
   "execution_count": 70,
   "id": "d60b33b3-a68b-4326-97e4-bb914adacf0d",
   "metadata": {},
   "outputs": [],
   "source": [
    "sankranti_events.to_csv('dim_sankranti_events.csv', index=False)"
   ]
  },
  {
   "cell_type": "code",
   "execution_count": null,
   "id": "98f86b7f-7989-4ef1-9225-2dfc94becfab",
   "metadata": {},
   "outputs": [],
   "source": []
  },
  {
   "cell_type": "code",
   "execution_count": null,
   "id": "594da2d3-3c77-4b8a-9ada-72196e8fd50d",
   "metadata": {},
   "outputs": [],
   "source": []
  }
 ],
 "metadata": {
  "kernelspec": {
   "display_name": "Python 3 (ipykernel)",
   "language": "python",
   "name": "python3"
  },
  "language_info": {
   "codemirror_mode": {
    "name": "ipython",
    "version": 3
   },
   "file_extension": ".py",
   "mimetype": "text/x-python",
   "name": "python",
   "nbconvert_exporter": "python",
   "pygments_lexer": "ipython3",
   "version": "3.12.4"
  }
 },
 "nbformat": 4,
 "nbformat_minor": 5
}
